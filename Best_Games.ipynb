{
 "cells": [
  {
   "cell_type": "markdown",
   "metadata": {},
   "source": [
    "# Сборный проект\n",
    "\n",
    "**Описание проекта**\n",
    "\n",
    "Вы работаете в интернет-магазине «Стримчик», который продаёт по всему миру компьютерные игры. Из открытых источников доступны исторические данные о продажах игр, оценки пользователей и экспертов, жанры и платформы (например, Xbox или PlayStation). Вам нужно выявить определяющие успешность игры закономерности. Это позволит сделать ставку на потенциально популярный продукт и спланировать рекламные кампании.\n",
    "Перед вами данные до 2016 года. Представим, что сейчас декабрь 2016 г., и вы планируете кампанию на 2017-й. Нужно отработать принцип работы с данными. Неважно, прогнозируете ли вы продажи на 2017 год по данным 2016-го или же 2027-й — по данным 2026 года.\n",
    "В наборе данных попадается аббревиатура ESRB (Entertainment Software Rating Board) — это ассоциация, определяющая возрастной рейтинг компьютерных игр. ESRB оценивает игровой контент и присваивает ему подходящую возрастную категорию, например, «Для взрослых», «Для детей младшего возраста» или «Для подростков».\n"
   ]
  },
  {
   "cell_type": "markdown",
   "metadata": {},
   "source": [
    "Привет, дорогой ревьювер! Спасибо тебе, что берешься проверить мою работу :-)\n",
    "\n",
    "С уважением, Антон."
   ]
  },
  {
   "cell_type": "markdown",
   "metadata": {},
   "source": [
    "### Шаг 1. Откроем файлы с данными и изучим общую информацию. "
   ]
  },
  {
   "cell_type": "code",
   "execution_count": 6,
   "metadata": {},
   "outputs": [],
   "source": [
    "import pandas as pd\n",
    "import numpy as np\n",
    "from scipy import stats as st\n",
    "import matplotlib.pyplot as plt\n",
    "import seaborn as sns\n",
    "import scipy.stats as st\n",
    "from functools import reduce"
   ]
  },
  {
   "cell_type": "markdown",
   "metadata": {},
   "source": [
    "Прочитаем файл *datasets/games.csv* и сохраним его в переменной *data*.\n"
   ]
  },
  {
   "cell_type": "code",
   "execution_count": 7,
   "metadata": {},
   "outputs": [
    {
     "data": {
      "text/html": [
       "<div>\n",
       "<style scoped>\n",
       "    .dataframe tbody tr th:only-of-type {\n",
       "        vertical-align: middle;\n",
       "    }\n",
       "\n",
       "    .dataframe tbody tr th {\n",
       "        vertical-align: top;\n",
       "    }\n",
       "\n",
       "    .dataframe thead th {\n",
       "        text-align: right;\n",
       "    }\n",
       "</style>\n",
       "<table border=\"1\" class=\"dataframe\">\n",
       "  <thead>\n",
       "    <tr style=\"text-align: right;\">\n",
       "      <th></th>\n",
       "      <th>Name</th>\n",
       "      <th>Platform</th>\n",
       "      <th>Year_of_Release</th>\n",
       "      <th>Genre</th>\n",
       "      <th>NA_sales</th>\n",
       "      <th>EU_sales</th>\n",
       "      <th>JP_sales</th>\n",
       "      <th>Other_sales</th>\n",
       "      <th>Critic_Score</th>\n",
       "      <th>User_Score</th>\n",
       "      <th>Rating</th>\n",
       "    </tr>\n",
       "  </thead>\n",
       "  <tbody>\n",
       "    <tr>\n",
       "      <td>0</td>\n",
       "      <td>Wii Sports</td>\n",
       "      <td>Wii</td>\n",
       "      <td>2006.0</td>\n",
       "      <td>Sports</td>\n",
       "      <td>41.36</td>\n",
       "      <td>28.96</td>\n",
       "      <td>3.77</td>\n",
       "      <td>8.45</td>\n",
       "      <td>76.0</td>\n",
       "      <td>8</td>\n",
       "      <td>E</td>\n",
       "    </tr>\n",
       "    <tr>\n",
       "      <td>1</td>\n",
       "      <td>Super Mario Bros.</td>\n",
       "      <td>NES</td>\n",
       "      <td>1985.0</td>\n",
       "      <td>Platform</td>\n",
       "      <td>29.08</td>\n",
       "      <td>3.58</td>\n",
       "      <td>6.81</td>\n",
       "      <td>0.77</td>\n",
       "      <td>NaN</td>\n",
       "      <td>NaN</td>\n",
       "      <td>NaN</td>\n",
       "    </tr>\n",
       "    <tr>\n",
       "      <td>2</td>\n",
       "      <td>Mario Kart Wii</td>\n",
       "      <td>Wii</td>\n",
       "      <td>2008.0</td>\n",
       "      <td>Racing</td>\n",
       "      <td>15.68</td>\n",
       "      <td>12.76</td>\n",
       "      <td>3.79</td>\n",
       "      <td>3.29</td>\n",
       "      <td>82.0</td>\n",
       "      <td>8.3</td>\n",
       "      <td>E</td>\n",
       "    </tr>\n",
       "    <tr>\n",
       "      <td>3</td>\n",
       "      <td>Wii Sports Resort</td>\n",
       "      <td>Wii</td>\n",
       "      <td>2009.0</td>\n",
       "      <td>Sports</td>\n",
       "      <td>15.61</td>\n",
       "      <td>10.93</td>\n",
       "      <td>3.28</td>\n",
       "      <td>2.95</td>\n",
       "      <td>80.0</td>\n",
       "      <td>8</td>\n",
       "      <td>E</td>\n",
       "    </tr>\n",
       "    <tr>\n",
       "      <td>4</td>\n",
       "      <td>Pokemon Red/Pokemon Blue</td>\n",
       "      <td>GB</td>\n",
       "      <td>1996.0</td>\n",
       "      <td>Role-Playing</td>\n",
       "      <td>11.27</td>\n",
       "      <td>8.89</td>\n",
       "      <td>10.22</td>\n",
       "      <td>1.00</td>\n",
       "      <td>NaN</td>\n",
       "      <td>NaN</td>\n",
       "      <td>NaN</td>\n",
       "    </tr>\n",
       "  </tbody>\n",
       "</table>\n",
       "</div>"
      ],
      "text/plain": [
       "                       Name Platform  Year_of_Release         Genre  NA_sales  \\\n",
       "0                Wii Sports      Wii           2006.0        Sports     41.36   \n",
       "1         Super Mario Bros.      NES           1985.0      Platform     29.08   \n",
       "2            Mario Kart Wii      Wii           2008.0        Racing     15.68   \n",
       "3         Wii Sports Resort      Wii           2009.0        Sports     15.61   \n",
       "4  Pokemon Red/Pokemon Blue       GB           1996.0  Role-Playing     11.27   \n",
       "\n",
       "   EU_sales  JP_sales  Other_sales  Critic_Score User_Score Rating  \n",
       "0     28.96      3.77         8.45          76.0          8      E  \n",
       "1      3.58      6.81         0.77           NaN        NaN    NaN  \n",
       "2     12.76      3.79         3.29          82.0        8.3      E  \n",
       "3     10.93      3.28         2.95          80.0          8      E  \n",
       "4      8.89     10.22         1.00           NaN        NaN    NaN  "
      ]
     },
     "execution_count": 7,
     "metadata": {},
     "output_type": "execute_result"
    }
   ],
   "source": [
    "data = pd.read_csv('/datasets/games.csv')\n",
    "data.head() # Выведем первые пять строк таблицы для визуального ознакомления."
   ]
  },
  {
   "cell_type": "markdown",
   "metadata": {},
   "source": [
    "Общая информация о данных таблицы *data*."
   ]
  },
  {
   "cell_type": "code",
   "execution_count": 8,
   "metadata": {},
   "outputs": [
    {
     "name": "stdout",
     "output_type": "stream",
     "text": [
      "<class 'pandas.core.frame.DataFrame'>\n",
      "RangeIndex: 16715 entries, 0 to 16714\n",
      "Data columns (total 11 columns):\n",
      "Name               16713 non-null object\n",
      "Platform           16715 non-null object\n",
      "Year_of_Release    16446 non-null float64\n",
      "Genre              16713 non-null object\n",
      "NA_sales           16715 non-null float64\n",
      "EU_sales           16715 non-null float64\n",
      "JP_sales           16715 non-null float64\n",
      "Other_sales        16715 non-null float64\n",
      "Critic_Score       8137 non-null float64\n",
      "User_Score         10014 non-null object\n",
      "Rating             9949 non-null object\n",
      "dtypes: float64(6), object(5)\n",
      "memory usage: 1.4+ MB\n"
     ]
    }
   ],
   "source": [
    "data.info()"
   ]
  },
  {
   "cell_type": "markdown",
   "metadata": {},
   "source": [
    "### Вывод\n",
    "\n",
    " - На начальном этапе мы можем видеть наличие пропусков, которые неоходимо заполнить (они могут быть как случайными, так и неслучайными.)\n",
    " - Нам предстоит заменить тип данных в некоторых столбцах: `Year_of_Release`, `User_Score`\n",
    " - Название столбцов необходимо привести к нижнему регистру."
   ]
  },
  {
   "cell_type": "markdown",
   "metadata": {},
   "source": [
    "### Шаг 2. Подготовка данных"
   ]
  },
  {
   "cell_type": "markdown",
   "metadata": {},
   "source": [
    "#### Названия столбцов приведем к нижнему регистру:"
   ]
  },
  {
   "cell_type": "code",
   "execution_count": 9,
   "metadata": {},
   "outputs": [],
   "source": [
    "data.columns = ['name', 'platform', 'year_of_release', 'genre', 'na_sales', 'eu_sales', 'jp_sales', 'other_sales', \n",
    "               'critic_score', 'user_score', 'rating']"
   ]
  },
  {
   "cell_type": "markdown",
   "metadata": {},
   "source": [
    "#### Обработаем пропуски\n",
    "\n",
    "Создадим функцию, для того, что бы определить какую часть составляют пропуски в столбцах."
   ]
  },
  {
   "cell_type": "code",
   "execution_count": 10,
   "metadata": {},
   "outputs": [],
   "source": [
    "def nan_part(row):\n",
    "    return 'Пропуски составляют {:.2%}'.format(data[row].isna().sum() / len(data))"
   ]
  },
  {
   "cell_type": "markdown",
   "metadata": {},
   "source": [
    "*Название игры*\n",
    "\n",
    "Две строчки с пропущенными названиями игр будет лучше удалить, т.к. нет возможности определить название."
   ]
  },
  {
   "cell_type": "code",
   "execution_count": 11,
   "metadata": {},
   "outputs": [],
   "source": [
    "data.dropna(subset = ['name'], inplace=True)"
   ]
  },
  {
   "cell_type": "markdown",
   "metadata": {},
   "source": [
    "*Год выпуска.*\n",
    "\n",
    "Всего пропущено 269 значений, которые составляют 1.61% от всех данных столбца. С абсолютной точностью восстановить данные не представляется возможно, поэтому все пропущенные значения заменим на -1 и не будем использовать в дальнейшем анализе."
   ]
  },
  {
   "cell_type": "code",
   "execution_count": 12,
   "metadata": {},
   "outputs": [
    {
     "data": {
      "text/plain": [
       "269"
      ]
     },
     "execution_count": 12,
     "metadata": {},
     "output_type": "execute_result"
    }
   ],
   "source": [
    "data['year_of_release'].isna().sum()"
   ]
  },
  {
   "cell_type": "code",
   "execution_count": 13,
   "metadata": {},
   "outputs": [
    {
     "data": {
      "text/plain": [
       "'Пропуски составляют 1.61%'"
      ]
     },
     "execution_count": 13,
     "metadata": {},
     "output_type": "execute_result"
    }
   ],
   "source": [
    "nan_part('year_of_release')"
   ]
  },
  {
   "cell_type": "code",
   "execution_count": 14,
   "metadata": {},
   "outputs": [],
   "source": [
    "data['year_of_release'].fillna(-1, inplace=True)"
   ]
  },
  {
   "cell_type": "markdown",
   "metadata": {},
   "source": [
    "*Пропущены значения оценок критиков и рейтингов ESRB*\n",
    "\n",
    "Исходя из того, что аналогично весьма сложно заменить пропущенные значения, будет лучше привести их к -1."
   ]
  },
  {
   "cell_type": "code",
   "execution_count": 15,
   "metadata": {},
   "outputs": [
    {
     "data": {
      "text/plain": [
       "'Пропуски составляют 51.31%'"
      ]
     },
     "execution_count": 15,
     "metadata": {},
     "output_type": "execute_result"
    }
   ],
   "source": [
    "nan_part('critic_score')"
   ]
  },
  {
   "cell_type": "code",
   "execution_count": 16,
   "metadata": {
    "scrolled": true
   },
   "outputs": [
    {
     "data": {
      "text/plain": [
       "'Пропуски составляют 40.47%'"
      ]
     },
     "execution_count": 16,
     "metadata": {},
     "output_type": "execute_result"
    }
   ],
   "source": [
    "nan_part('rating')"
   ]
  },
  {
   "cell_type": "code",
   "execution_count": 17,
   "metadata": {},
   "outputs": [],
   "source": [
    "for column in ['critic_score', 'rating']:\n",
    "    data.loc[data[column].isna(), column] = -1"
   ]
  },
  {
   "cell_type": "markdown",
   "metadata": {},
   "source": [
    "*Оценка пользователей*\n",
    "\n",
    "С оценкой пользователей ситуация похожа на *год выпуска*: часть значений пропущена, а еще часть имеет значение 'tbd'. Их все так же будет лучше заменить на -1."
   ]
  },
  {
   "cell_type": "code",
   "execution_count": 18,
   "metadata": {},
   "outputs": [],
   "source": [
    "# data['user_score'].value_counts()"
   ]
  },
  {
   "cell_type": "code",
   "execution_count": 19,
   "metadata": {},
   "outputs": [],
   "source": [
    "data.loc[(data['user_score'] == 'tbd') | (data['user_score'].isna()), 'user_score'] = -1"
   ]
  },
  {
   "cell_type": "markdown",
   "metadata": {},
   "source": [
    "#### Преобразуем тип данных в столбцах\n",
    "1. В столбце `year_of_release` заменим данные с вещественного на целочисленный тип.\n",
    "2. В столбце `user_score` со строчного на вещественный. "
   ]
  },
  {
   "cell_type": "code",
   "execution_count": 20,
   "metadata": {},
   "outputs": [
    {
     "name": "stdout",
     "output_type": "stream",
     "text": [
      "<class 'pandas.core.frame.DataFrame'>\n",
      "Int64Index: 16713 entries, 0 to 16714\n",
      "Data columns (total 11 columns):\n",
      "name               16713 non-null object\n",
      "platform           16713 non-null object\n",
      "year_of_release    16713 non-null int64\n",
      "genre              16713 non-null object\n",
      "na_sales           16713 non-null float64\n",
      "eu_sales           16713 non-null float64\n",
      "jp_sales           16713 non-null float64\n",
      "other_sales        16713 non-null float64\n",
      "critic_score       16713 non-null float64\n",
      "user_score         16713 non-null float64\n",
      "rating             16713 non-null object\n",
      "dtypes: float64(6), int64(1), object(4)\n",
      "memory usage: 1.5+ MB\n"
     ]
    }
   ],
   "source": [
    "data['year_of_release'] = data['year_of_release'].astype('int')\n",
    "data['user_score'] = pd.to_numeric(data['user_score'])\n",
    "data.info()"
   ]
  },
  {
   "cell_type": "markdown",
   "metadata": {},
   "source": [
    "#### Суммарные продажи в регионах"
   ]
  },
  {
   "cell_type": "code",
   "execution_count": 21,
   "metadata": {
    "scrolled": false
   },
   "outputs": [
    {
     "data": {
      "text/html": [
       "<div>\n",
       "<style scoped>\n",
       "    .dataframe tbody tr th:only-of-type {\n",
       "        vertical-align: middle;\n",
       "    }\n",
       "\n",
       "    .dataframe tbody tr th {\n",
       "        vertical-align: top;\n",
       "    }\n",
       "\n",
       "    .dataframe thead th {\n",
       "        text-align: right;\n",
       "    }\n",
       "</style>\n",
       "<table border=\"1\" class=\"dataframe\">\n",
       "  <thead>\n",
       "    <tr style=\"text-align: right;\">\n",
       "      <th></th>\n",
       "      <th>name</th>\n",
       "      <th>platform</th>\n",
       "      <th>year_of_release</th>\n",
       "      <th>genre</th>\n",
       "      <th>na_sales</th>\n",
       "      <th>eu_sales</th>\n",
       "      <th>jp_sales</th>\n",
       "      <th>other_sales</th>\n",
       "      <th>critic_score</th>\n",
       "      <th>user_score</th>\n",
       "      <th>rating</th>\n",
       "      <th>total_sales</th>\n",
       "    </tr>\n",
       "  </thead>\n",
       "  <tbody>\n",
       "    <tr>\n",
       "      <td>0</td>\n",
       "      <td>Wii Sports</td>\n",
       "      <td>Wii</td>\n",
       "      <td>2006</td>\n",
       "      <td>Sports</td>\n",
       "      <td>41.36</td>\n",
       "      <td>28.96</td>\n",
       "      <td>3.77</td>\n",
       "      <td>8.45</td>\n",
       "      <td>76.0</td>\n",
       "      <td>8.0</td>\n",
       "      <td>E</td>\n",
       "      <td>74.09</td>\n",
       "    </tr>\n",
       "    <tr>\n",
       "      <td>1</td>\n",
       "      <td>Super Mario Bros.</td>\n",
       "      <td>NES</td>\n",
       "      <td>1985</td>\n",
       "      <td>Platform</td>\n",
       "      <td>29.08</td>\n",
       "      <td>3.58</td>\n",
       "      <td>6.81</td>\n",
       "      <td>0.77</td>\n",
       "      <td>-1.0</td>\n",
       "      <td>-1.0</td>\n",
       "      <td>-1</td>\n",
       "      <td>39.47</td>\n",
       "    </tr>\n",
       "    <tr>\n",
       "      <td>2</td>\n",
       "      <td>Mario Kart Wii</td>\n",
       "      <td>Wii</td>\n",
       "      <td>2008</td>\n",
       "      <td>Racing</td>\n",
       "      <td>15.68</td>\n",
       "      <td>12.76</td>\n",
       "      <td>3.79</td>\n",
       "      <td>3.29</td>\n",
       "      <td>82.0</td>\n",
       "      <td>8.3</td>\n",
       "      <td>E</td>\n",
       "      <td>32.23</td>\n",
       "    </tr>\n",
       "    <tr>\n",
       "      <td>3</td>\n",
       "      <td>Wii Sports Resort</td>\n",
       "      <td>Wii</td>\n",
       "      <td>2009</td>\n",
       "      <td>Sports</td>\n",
       "      <td>15.61</td>\n",
       "      <td>10.93</td>\n",
       "      <td>3.28</td>\n",
       "      <td>2.95</td>\n",
       "      <td>80.0</td>\n",
       "      <td>8.0</td>\n",
       "      <td>E</td>\n",
       "      <td>29.82</td>\n",
       "    </tr>\n",
       "    <tr>\n",
       "      <td>4</td>\n",
       "      <td>Pokemon Red/Pokemon Blue</td>\n",
       "      <td>GB</td>\n",
       "      <td>1996</td>\n",
       "      <td>Role-Playing</td>\n",
       "      <td>11.27</td>\n",
       "      <td>8.89</td>\n",
       "      <td>10.22</td>\n",
       "      <td>1.00</td>\n",
       "      <td>-1.0</td>\n",
       "      <td>-1.0</td>\n",
       "      <td>-1</td>\n",
       "      <td>30.38</td>\n",
       "    </tr>\n",
       "  </tbody>\n",
       "</table>\n",
       "</div>"
      ],
      "text/plain": [
       "                       name platform  year_of_release         genre  na_sales  \\\n",
       "0                Wii Sports      Wii             2006        Sports     41.36   \n",
       "1         Super Mario Bros.      NES             1985      Platform     29.08   \n",
       "2            Mario Kart Wii      Wii             2008        Racing     15.68   \n",
       "3         Wii Sports Resort      Wii             2009        Sports     15.61   \n",
       "4  Pokemon Red/Pokemon Blue       GB             1996  Role-Playing     11.27   \n",
       "\n",
       "   eu_sales  jp_sales  other_sales  critic_score  user_score rating  \\\n",
       "0     28.96      3.77         8.45          76.0         8.0      E   \n",
       "1      3.58      6.81         0.77          -1.0        -1.0     -1   \n",
       "2     12.76      3.79         3.29          82.0         8.3      E   \n",
       "3     10.93      3.28         2.95          80.0         8.0      E   \n",
       "4      8.89     10.22         1.00          -1.0        -1.0     -1   \n",
       "\n",
       "   total_sales  \n",
       "0        74.09  \n",
       "1        39.47  \n",
       "2        32.23  \n",
       "3        29.82  \n",
       "4        30.38  "
      ]
     },
     "execution_count": 21,
     "metadata": {},
     "output_type": "execute_result"
    }
   ],
   "source": [
    "data['total_sales'] = data['na_sales'] + data['eu_sales'] + data['jp_sales'] \n",
    "\n",
    "data.head()"
   ]
  },
  {
   "cell_type": "markdown",
   "metadata": {},
   "source": [
    "### Вывод\n",
    "\n",
    "Таким образом мы заменили названия столбцов (все прописные буквы заменили на строчные), заменили типы данных в столбцах с годом выпуска и с оценкой пользователей ввиду их несоответсвия нужному типу.\n",
    "Обработали пропущенные значения, из которых основную часть составляли пропуски оценки критиков и рейтинг от организации ESRB. Есть вероятность, что данные пропуски были образованы из-за того, что в те года, когда были выпущены игры еще не существовало ни игровых критико, ни организации ESRB."
   ]
  },
  {
   "cell_type": "markdown",
   "metadata": {},
   "source": [
    "### Шаг 3. Исследовательский анализ данных"
   ]
  },
  {
   "cell_type": "markdown",
   "metadata": {},
   "source": [
    "**Определим, сколько игр выпускалось в разные года**"
   ]
  },
  {
   "cell_type": "code",
   "execution_count": 22,
   "metadata": {},
   "outputs": [
    {
     "data": {
      "image/png": "[encoded data removed]",
      "text/plain": [
       "<Figure size 1584x576 with 1 Axes>"
      ]
     },
     "metadata": {
      "needs_background": "light"
     },
     "output_type": "display_data"
    }
   ],
   "source": [
    "year_series = data.pivot_table(index='year_of_release', values='total_sales', aggfunc='count')\n",
    "year_series.columns = ['count']\n",
    "\n",
    "ax = plt.subplots(figsize=(22, 8))\n",
    "ax = sns.barplot(x=year_series.index, y=\"count\", data=year_series)"
   ]
  },
  {
   "cell_type": "markdown",
   "metadata": {},
   "source": [
    "Исходя из графика, данные до 1994 года могут быть не интересны для нашего анализа."
   ]
  },
  {
   "cell_type": "markdown",
   "metadata": {},
   "source": [
    "**Продажи по платформам в разные года**"
   ]
  },
  {
   "cell_type": "code",
   "execution_count": 55,
   "metadata": {},
   "outputs": [],
   "source": [
    "year_series = data.pivot_table(index='year_of_release', columns='platform', values='total_sales', aggfunc='sum')\n",
    "year_series.fillna(0, inplace=True)\n",
    "# year_series"
   ]
  },
  {
   "cell_type": "markdown",
   "metadata": {},
   "source": [
    "Определим среднюю \"продолжительность жизни\" для платформ"
   ]
  },
  {
   "cell_type": "code",
   "execution_count": 56,
   "metadata": {},
   "outputs": [],
   "source": [
    "# соберем список из количества лет жизни каждой платформы\n",
    "notnull = []\n",
    "for platform in year_series.columns:\n",
    "    notnull.append(year_series[platform].ne(0).value_counts().loc[year_series[platform].ne(0).value_counts().index == True].values[0])"
   ]
  },
  {
   "cell_type": "markdown",
   "metadata": {},
   "source": [
    "*Может есть более простой способ?*"
   ]
  },
  {
   "cell_type": "markdown",
   "metadata": {},
   "source": [
    "Построим ящик с усами для продолжительности жизни каждой из платформ."
   ]
  },
  {
   "cell_type": "code",
   "execution_count": 25,
   "metadata": {
    "scrolled": true
   },
   "outputs": [
    {
     "data": {
      "text/plain": [
       "<matplotlib.axes._subplots.AxesSubplot at 0x7f4eb6225e90>"
      ]
     },
     "execution_count": 25,
     "metadata": {},
     "output_type": "execute_result"
    },
    {
     "data": {
      "image/png": "[encoded data removed]",
      "text/plain": [
       "<Figure size 432x288 with 1 Axes>"
      ]
     },
     "metadata": {
      "needs_background": "light"
     },
     "output_type": "display_data"
    }
   ],
   "source": [
    "sns.boxplot(data=notnull, orient='h')"
   ]
  },
  {
   "cell_type": "code",
   "execution_count": 26,
   "metadata": {},
   "outputs": [
    {
     "data": {
      "text/html": [
       "<div>\n",
       "<style scoped>\n",
       "    .dataframe tbody tr th:only-of-type {\n",
       "        vertical-align: middle;\n",
       "    }\n",
       "\n",
       "    .dataframe tbody tr th {\n",
       "        vertical-align: top;\n",
       "    }\n",
       "\n",
       "    .dataframe thead th {\n",
       "        text-align: right;\n",
       "    }\n",
       "</style>\n",
       "<table border=\"1\" class=\"dataframe\">\n",
       "  <thead>\n",
       "    <tr style=\"text-align: right;\">\n",
       "      <th></th>\n",
       "      <th>active_years</th>\n",
       "    </tr>\n",
       "  </thead>\n",
       "  <tbody>\n",
       "    <tr>\n",
       "      <td>count</td>\n",
       "      <td>31.000000</td>\n",
       "    </tr>\n",
       "    <tr>\n",
       "      <td>mean</td>\n",
       "      <td>8.193548</td>\n",
       "    </tr>\n",
       "    <tr>\n",
       "      <td>std</td>\n",
       "      <td>5.412451</td>\n",
       "    </tr>\n",
       "    <tr>\n",
       "      <td>min</td>\n",
       "      <td>1.000000</td>\n",
       "    </tr>\n",
       "    <tr>\n",
       "      <td>25%</td>\n",
       "      <td>4.000000</td>\n",
       "    </tr>\n",
       "    <tr>\n",
       "      <td>50%</td>\n",
       "      <td>8.000000</td>\n",
       "    </tr>\n",
       "    <tr>\n",
       "      <td>75%</td>\n",
       "      <td>12.000000</td>\n",
       "    </tr>\n",
       "    <tr>\n",
       "      <td>max</td>\n",
       "      <td>27.000000</td>\n",
       "    </tr>\n",
       "  </tbody>\n",
       "</table>\n",
       "</div>"
      ],
      "text/plain": [
       "       active_years\n",
       "count     31.000000\n",
       "mean       8.193548\n",
       "std        5.412451\n",
       "min        1.000000\n",
       "25%        4.000000\n",
       "50%        8.000000\n",
       "75%       12.000000\n",
       "max       27.000000"
      ]
     },
     "execution_count": 26,
     "metadata": {},
     "output_type": "execute_result"
    }
   ],
   "source": [
    "notnull = pd.DataFrame(notnull, columns=['active_years'])\n",
    "notnull.describe()"
   ]
  },
  {
   "cell_type": "markdown",
   "metadata": {},
   "source": [
    "Таким образом мы можем видеть, что средняя продолжительность жизни игровой платформы, в течении которой она приносить доход  составляет 8 лет. "
   ]
  },
  {
   "cell_type": "markdown",
   "metadata": {},
   "source": [
    "**Определим Топ-10 платформ с наибольшими суммарными продажами**"
   ]
  },
  {
   "cell_type": "code",
   "execution_count": 59,
   "metadata": {},
   "outputs": [
    {
     "data": {
      "text/html": [
       "<div>\n",
       "<style scoped>\n",
       "    .dataframe tbody tr th:only-of-type {\n",
       "        vertical-align: middle;\n",
       "    }\n",
       "\n",
       "    .dataframe tbody tr th {\n",
       "        vertical-align: top;\n",
       "    }\n",
       "\n",
       "    .dataframe thead th {\n",
       "        text-align: right;\n",
       "    }\n",
       "</style>\n",
       "<table border=\"1\" class=\"dataframe\">\n",
       "  <thead>\n",
       "    <tr style=\"text-align: right;\">\n",
       "      <th></th>\n",
       "      <th>total_sales</th>\n",
       "    </tr>\n",
       "    <tr>\n",
       "      <th>platform</th>\n",
       "      <th></th>\n",
       "    </tr>\n",
       "  </thead>\n",
       "  <tbody>\n",
       "    <tr>\n",
       "      <td>PS2</td>\n",
       "      <td>1062.33</td>\n",
       "    </tr>\n",
       "    <tr>\n",
       "      <td>X360</td>\n",
       "      <td>885.66</td>\n",
       "    </tr>\n",
       "    <tr>\n",
       "      <td>Wii</td>\n",
       "      <td>828.44</td>\n",
       "    </tr>\n",
       "    <tr>\n",
       "      <td>PS3</td>\n",
       "      <td>803.97</td>\n",
       "    </tr>\n",
       "    <tr>\n",
       "      <td>DS</td>\n",
       "      <td>746.86</td>\n",
       "    </tr>\n",
       "    <tr>\n",
       "      <td>PS</td>\n",
       "      <td>689.95</td>\n",
       "    </tr>\n",
       "    <tr>\n",
       "      <td>GBA</td>\n",
       "      <td>310.12</td>\n",
       "    </tr>\n",
       "    <tr>\n",
       "      <td>PS4</td>\n",
       "      <td>265.79</td>\n",
       "    </tr>\n",
       "    <tr>\n",
       "      <td>PSP</td>\n",
       "      <td>252.63</td>\n",
       "    </tr>\n",
       "    <tr>\n",
       "      <td>XB</td>\n",
       "      <td>249.02</td>\n",
       "    </tr>\n",
       "  </tbody>\n",
       "</table>\n",
       "</div>"
      ],
      "text/plain": [
       "          total_sales\n",
       "platform             \n",
       "PS2           1062.33\n",
       "X360           885.66\n",
       "Wii            828.44\n",
       "PS3            803.97\n",
       "DS             746.86\n",
       "PS             689.95\n",
       "GBA            310.12\n",
       "PS4            265.79\n",
       "PSP            252.63\n",
       "XB             249.02"
      ]
     },
     "execution_count": 59,
     "metadata": {},
     "output_type": "execute_result"
    }
   ],
   "source": [
    "top = data.pivot_table(index='platform', values='total_sales', aggfunc='sum')\n",
    "top = top.sort_values(by='total_sales', ascending=False)\n",
    "top = top[:10]\n",
    "top"
   ]
  },
  {
   "cell_type": "markdown",
   "metadata": {},
   "source": [
    "Победителем становиться PS2."
   ]
  },
  {
   "cell_type": "markdown",
   "metadata": {},
   "source": [
    "Определим актуальный переиод."
   ]
  },
  {
   "cell_type": "code",
   "execution_count": 28,
   "metadata": {},
   "outputs": [],
   "source": [
    "# year_series"
   ]
  },
  {
   "cell_type": "code",
   "execution_count": 29,
   "metadata": {},
   "outputs": [
    {
     "data": {
      "text/html": [
       "<div>\n",
       "<style scoped>\n",
       "    .dataframe tbody tr th:only-of-type {\n",
       "        vertical-align: middle;\n",
       "    }\n",
       "\n",
       "    .dataframe tbody tr th {\n",
       "        vertical-align: top;\n",
       "    }\n",
       "\n",
       "    .dataframe thead th {\n",
       "        text-align: right;\n",
       "    }\n",
       "</style>\n",
       "<table border=\"1\" class=\"dataframe\">\n",
       "  <thead>\n",
       "    <tr style=\"text-align: right;\">\n",
       "      <th>platform</th>\n",
       "      <th>DS</th>\n",
       "      <th>GBA</th>\n",
       "      <th>PS</th>\n",
       "      <th>PS2</th>\n",
       "      <th>PS3</th>\n",
       "      <th>PS4</th>\n",
       "      <th>PSP</th>\n",
       "      <th>Wii</th>\n",
       "      <th>X360</th>\n",
       "      <th>XB</th>\n",
       "    </tr>\n",
       "    <tr>\n",
       "      <th>year_of_release</th>\n",
       "      <th></th>\n",
       "      <th></th>\n",
       "      <th></th>\n",
       "      <th></th>\n",
       "      <th></th>\n",
       "      <th></th>\n",
       "      <th></th>\n",
       "      <th></th>\n",
       "      <th></th>\n",
       "      <th></th>\n",
       "    </tr>\n",
       "  </thead>\n",
       "  <tbody>\n",
       "    <tr>\n",
       "      <td>1994</td>\n",
       "      <td>0.00</td>\n",
       "      <td>0.00</td>\n",
       "      <td>5.63</td>\n",
       "      <td>0.00</td>\n",
       "      <td>0.00</td>\n",
       "      <td>0.00</td>\n",
       "      <td>0.00</td>\n",
       "      <td>0.00</td>\n",
       "      <td>0.00</td>\n",
       "      <td>0.00</td>\n",
       "    </tr>\n",
       "    <tr>\n",
       "      <td>1995</td>\n",
       "      <td>0.00</td>\n",
       "      <td>0.00</td>\n",
       "      <td>34.00</td>\n",
       "      <td>0.00</td>\n",
       "      <td>0.00</td>\n",
       "      <td>0.00</td>\n",
       "      <td>0.00</td>\n",
       "      <td>0.00</td>\n",
       "      <td>0.00</td>\n",
       "      <td>0.00</td>\n",
       "    </tr>\n",
       "    <tr>\n",
       "      <td>1996</td>\n",
       "      <td>0.00</td>\n",
       "      <td>0.00</td>\n",
       "      <td>89.16</td>\n",
       "      <td>0.00</td>\n",
       "      <td>0.00</td>\n",
       "      <td>0.00</td>\n",
       "      <td>0.00</td>\n",
       "      <td>0.00</td>\n",
       "      <td>0.00</td>\n",
       "      <td>0.00</td>\n",
       "    </tr>\n",
       "    <tr>\n",
       "      <td>1997</td>\n",
       "      <td>0.00</td>\n",
       "      <td>0.00</td>\n",
       "      <td>128.30</td>\n",
       "      <td>0.00</td>\n",
       "      <td>0.00</td>\n",
       "      <td>0.00</td>\n",
       "      <td>0.00</td>\n",
       "      <td>0.00</td>\n",
       "      <td>0.00</td>\n",
       "      <td>0.00</td>\n",
       "    </tr>\n",
       "    <tr>\n",
       "      <td>1998</td>\n",
       "      <td>0.00</td>\n",
       "      <td>0.00</td>\n",
       "      <td>160.44</td>\n",
       "      <td>0.00</td>\n",
       "      <td>0.00</td>\n",
       "      <td>0.00</td>\n",
       "      <td>0.00</td>\n",
       "      <td>0.00</td>\n",
       "      <td>0.00</td>\n",
       "      <td>0.00</td>\n",
       "    </tr>\n",
       "    <tr>\n",
       "      <td>1999</td>\n",
       "      <td>0.00</td>\n",
       "      <td>0.00</td>\n",
       "      <td>136.61</td>\n",
       "      <td>0.00</td>\n",
       "      <td>0.00</td>\n",
       "      <td>0.00</td>\n",
       "      <td>0.00</td>\n",
       "      <td>0.00</td>\n",
       "      <td>0.00</td>\n",
       "      <td>0.00</td>\n",
       "    </tr>\n",
       "    <tr>\n",
       "      <td>2000</td>\n",
       "      <td>0.00</td>\n",
       "      <td>0.07</td>\n",
       "      <td>91.09</td>\n",
       "      <td>35.59</td>\n",
       "      <td>0.00</td>\n",
       "      <td>0.00</td>\n",
       "      <td>0.00</td>\n",
       "      <td>0.00</td>\n",
       "      <td>0.00</td>\n",
       "      <td>0.95</td>\n",
       "    </tr>\n",
       "    <tr>\n",
       "      <td>2001</td>\n",
       "      <td>0.00</td>\n",
       "      <td>59.62</td>\n",
       "      <td>33.42</td>\n",
       "      <td>149.65</td>\n",
       "      <td>0.00</td>\n",
       "      <td>0.00</td>\n",
       "      <td>0.00</td>\n",
       "      <td>0.00</td>\n",
       "      <td>0.00</td>\n",
       "      <td>21.63</td>\n",
       "    </tr>\n",
       "    <tr>\n",
       "      <td>2002</td>\n",
       "      <td>0.00</td>\n",
       "      <td>72.35</td>\n",
       "      <td>6.31</td>\n",
       "      <td>183.66</td>\n",
       "      <td>0.00</td>\n",
       "      <td>0.00</td>\n",
       "      <td>0.00</td>\n",
       "      <td>0.00</td>\n",
       "      <td>0.00</td>\n",
       "      <td>46.32</td>\n",
       "    </tr>\n",
       "    <tr>\n",
       "      <td>2003</td>\n",
       "      <td>0.00</td>\n",
       "      <td>55.31</td>\n",
       "      <td>1.93</td>\n",
       "      <td>163.62</td>\n",
       "      <td>0.00</td>\n",
       "      <td>0.00</td>\n",
       "      <td>0.00</td>\n",
       "      <td>0.00</td>\n",
       "      <td>0.00</td>\n",
       "      <td>53.13</td>\n",
       "    </tr>\n",
       "    <tr>\n",
       "      <td>2004</td>\n",
       "      <td>15.91</td>\n",
       "      <td>76.10</td>\n",
       "      <td>0.00</td>\n",
       "      <td>171.96</td>\n",
       "      <td>0.00</td>\n",
       "      <td>0.00</td>\n",
       "      <td>5.98</td>\n",
       "      <td>0.00</td>\n",
       "      <td>0.00</td>\n",
       "      <td>63.29</td>\n",
       "    </tr>\n",
       "    <tr>\n",
       "      <td>2005</td>\n",
       "      <td>119.34</td>\n",
       "      <td>33.28</td>\n",
       "      <td>0.00</td>\n",
       "      <td>141.51</td>\n",
       "      <td>0.00</td>\n",
       "      <td>0.00</td>\n",
       "      <td>37.41</td>\n",
       "      <td>0.00</td>\n",
       "      <td>7.61</td>\n",
       "      <td>47.35</td>\n",
       "    </tr>\n",
       "    <tr>\n",
       "      <td>2006</td>\n",
       "      <td>111.64</td>\n",
       "      <td>5.19</td>\n",
       "      <td>0.00</td>\n",
       "      <td>89.18</td>\n",
       "      <td>17.30</td>\n",
       "      <td>0.00</td>\n",
       "      <td>46.35</td>\n",
       "      <td>123.63</td>\n",
       "      <td>47.20</td>\n",
       "      <td>9.72</td>\n",
       "    </tr>\n",
       "    <tr>\n",
       "      <td>2007</td>\n",
       "      <td>135.85</td>\n",
       "      <td>3.35</td>\n",
       "      <td>0.00</td>\n",
       "      <td>52.30</td>\n",
       "      <td>62.48</td>\n",
       "      <td>0.00</td>\n",
       "      <td>38.32</td>\n",
       "      <td>139.22</td>\n",
       "      <td>86.68</td>\n",
       "      <td>0.53</td>\n",
       "    </tr>\n",
       "    <tr>\n",
       "      <td>2008</td>\n",
       "      <td>134.37</td>\n",
       "      <td>0.00</td>\n",
       "      <td>0.00</td>\n",
       "      <td>34.59</td>\n",
       "      <td>101.78</td>\n",
       "      <td>0.00</td>\n",
       "      <td>29.81</td>\n",
       "      <td>156.33</td>\n",
       "      <td>122.56</td>\n",
       "      <td>0.17</td>\n",
       "    </tr>\n",
       "    <tr>\n",
       "      <td>2009</td>\n",
       "      <td>110.99</td>\n",
       "      <td>0.00</td>\n",
       "      <td>0.00</td>\n",
       "      <td>16.24</td>\n",
       "      <td>113.08</td>\n",
       "      <td>0.00</td>\n",
       "      <td>31.46</td>\n",
       "      <td>189.43</td>\n",
       "      <td>109.26</td>\n",
       "      <td>0.00</td>\n",
       "    </tr>\n",
       "    <tr>\n",
       "      <td>2010</td>\n",
       "      <td>79.48</td>\n",
       "      <td>0.00</td>\n",
       "      <td>0.00</td>\n",
       "      <td>4.44</td>\n",
       "      <td>121.36</td>\n",
       "      <td>0.00</td>\n",
       "      <td>31.44</td>\n",
       "      <td>117.73</td>\n",
       "      <td>155.80</td>\n",
       "      <td>0.00</td>\n",
       "    </tr>\n",
       "    <tr>\n",
       "      <td>2011</td>\n",
       "      <td>24.30</td>\n",
       "      <td>0.00</td>\n",
       "      <td>0.00</td>\n",
       "      <td>0.35</td>\n",
       "      <td>135.22</td>\n",
       "      <td>0.00</td>\n",
       "      <td>16.98</td>\n",
       "      <td>54.37</td>\n",
       "      <td>131.11</td>\n",
       "      <td>0.00</td>\n",
       "    </tr>\n",
       "    <tr>\n",
       "      <td>2012</td>\n",
       "      <td>10.42</td>\n",
       "      <td>0.00</td>\n",
       "      <td>0.00</td>\n",
       "      <td>0.00</td>\n",
       "      <td>90.87</td>\n",
       "      <td>0.00</td>\n",
       "      <td>7.56</td>\n",
       "      <td>20.22</td>\n",
       "      <td>91.45</td>\n",
       "      <td>0.00</td>\n",
       "    </tr>\n",
       "    <tr>\n",
       "      <td>2013</td>\n",
       "      <td>1.42</td>\n",
       "      <td>0.00</td>\n",
       "      <td>0.00</td>\n",
       "      <td>0.00</td>\n",
       "      <td>95.85</td>\n",
       "      <td>22.12</td>\n",
       "      <td>3.10</td>\n",
       "      <td>7.87</td>\n",
       "      <td>80.82</td>\n",
       "      <td>0.00</td>\n",
       "    </tr>\n",
       "    <tr>\n",
       "      <td>2014</td>\n",
       "      <td>0.00</td>\n",
       "      <td>0.00</td>\n",
       "      <td>0.00</td>\n",
       "      <td>0.00</td>\n",
       "      <td>40.88</td>\n",
       "      <td>84.22</td>\n",
       "      <td>0.24</td>\n",
       "      <td>3.45</td>\n",
       "      <td>31.61</td>\n",
       "      <td>0.00</td>\n",
       "    </tr>\n",
       "    <tr>\n",
       "      <td>2015</td>\n",
       "      <td>0.00</td>\n",
       "      <td>0.00</td>\n",
       "      <td>0.00</td>\n",
       "      <td>0.00</td>\n",
       "      <td>14.70</td>\n",
       "      <td>100.44</td>\n",
       "      <td>0.12</td>\n",
       "      <td>1.05</td>\n",
       "      <td>10.86</td>\n",
       "      <td>0.00</td>\n",
       "    </tr>\n",
       "    <tr>\n",
       "      <td>2016</td>\n",
       "      <td>0.00</td>\n",
       "      <td>0.00</td>\n",
       "      <td>0.00</td>\n",
       "      <td>0.00</td>\n",
       "      <td>3.23</td>\n",
       "      <td>59.01</td>\n",
       "      <td>0.00</td>\n",
       "      <td>0.17</td>\n",
       "      <td>1.40</td>\n",
       "      <td>0.00</td>\n",
       "    </tr>\n",
       "  </tbody>\n",
       "</table>\n",
       "</div>"
      ],
      "text/plain": [
       "platform             DS    GBA      PS     PS2     PS3     PS4    PSP     Wii  \\\n",
       "year_of_release                                                                 \n",
       "1994               0.00   0.00    5.63    0.00    0.00    0.00   0.00    0.00   \n",
       "1995               0.00   0.00   34.00    0.00    0.00    0.00   0.00    0.00   \n",
       "1996               0.00   0.00   89.16    0.00    0.00    0.00   0.00    0.00   \n",
       "1997               0.00   0.00  128.30    0.00    0.00    0.00   0.00    0.00   \n",
       "1998               0.00   0.00  160.44    0.00    0.00    0.00   0.00    0.00   \n",
       "1999               0.00   0.00  136.61    0.00    0.00    0.00   0.00    0.00   \n",
       "2000               0.00   0.07   91.09   35.59    0.00    0.00   0.00    0.00   \n",
       "2001               0.00  59.62   33.42  149.65    0.00    0.00   0.00    0.00   \n",
       "2002               0.00  72.35    6.31  183.66    0.00    0.00   0.00    0.00   \n",
       "2003               0.00  55.31    1.93  163.62    0.00    0.00   0.00    0.00   \n",
       "2004              15.91  76.10    0.00  171.96    0.00    0.00   5.98    0.00   \n",
       "2005             119.34  33.28    0.00  141.51    0.00    0.00  37.41    0.00   \n",
       "2006             111.64   5.19    0.00   89.18   17.30    0.00  46.35  123.63   \n",
       "2007             135.85   3.35    0.00   52.30   62.48    0.00  38.32  139.22   \n",
       "2008             134.37   0.00    0.00   34.59  101.78    0.00  29.81  156.33   \n",
       "2009             110.99   0.00    0.00   16.24  113.08    0.00  31.46  189.43   \n",
       "2010              79.48   0.00    0.00    4.44  121.36    0.00  31.44  117.73   \n",
       "2011              24.30   0.00    0.00    0.35  135.22    0.00  16.98   54.37   \n",
       "2012              10.42   0.00    0.00    0.00   90.87    0.00   7.56   20.22   \n",
       "2013               1.42   0.00    0.00    0.00   95.85   22.12   3.10    7.87   \n",
       "2014               0.00   0.00    0.00    0.00   40.88   84.22   0.24    3.45   \n",
       "2015               0.00   0.00    0.00    0.00   14.70  100.44   0.12    1.05   \n",
       "2016               0.00   0.00    0.00    0.00    3.23   59.01   0.00    0.17   \n",
       "\n",
       "platform           X360     XB  \n",
       "year_of_release                 \n",
       "1994               0.00   0.00  \n",
       "1995               0.00   0.00  \n",
       "1996               0.00   0.00  \n",
       "1997               0.00   0.00  \n",
       "1998               0.00   0.00  \n",
       "1999               0.00   0.00  \n",
       "2000               0.00   0.95  \n",
       "2001               0.00  21.63  \n",
       "2002               0.00  46.32  \n",
       "2003               0.00  53.13  \n",
       "2004               0.00  63.29  \n",
       "2005               7.61  47.35  \n",
       "2006              47.20   9.72  \n",
       "2007              86.68   0.53  \n",
       "2008             122.56   0.17  \n",
       "2009             109.26   0.00  \n",
       "2010             155.80   0.00  \n",
       "2011             131.11   0.00  \n",
       "2012              91.45   0.00  \n",
       "2013              80.82   0.00  \n",
       "2014              31.61   0.00  \n",
       "2015              10.86   0.00  \n",
       "2016               1.40   0.00  "
      ]
     },
     "execution_count": 29,
     "metadata": {},
     "output_type": "execute_result"
    }
   ],
   "source": [
    "for platform in year_series.columns:\n",
    "    if platform not in top.index:\n",
    "        year_series.drop(platform, axis=1, inplace=True)\n",
    "year_series = year_series[year_series.index >= 1994]\n",
    "year_series"
   ]
  },
  {
   "cell_type": "markdown",
   "metadata": {},
   "source": [
    "Внимательно изучив таблицу (особенно данные по последним годам), мы можем прийдти к выводу, что актульный период для нас - промежуток с 2013 по 2016 года включительно. Это период активной фазы для платформы PS4, в то время, как остальные платформы находяться на конечном этапе своего коммерческого существования и не принесут значительного вклада в 2017 году."
   ]
  },
  {
   "cell_type": "code",
   "execution_count": 30,
   "metadata": {},
   "outputs": [
    {
     "data": {
      "text/html": [
       "<div>\n",
       "<style scoped>\n",
       "    .dataframe tbody tr th:only-of-type {\n",
       "        vertical-align: middle;\n",
       "    }\n",
       "\n",
       "    .dataframe tbody tr th {\n",
       "        vertical-align: top;\n",
       "    }\n",
       "\n",
       "    .dataframe thead th {\n",
       "        text-align: right;\n",
       "    }\n",
       "</style>\n",
       "<table border=\"1\" class=\"dataframe\">\n",
       "  <thead>\n",
       "    <tr style=\"text-align: right;\">\n",
       "      <th>year_of_release</th>\n",
       "      <th>1994</th>\n",
       "      <th>1995</th>\n",
       "      <th>1996</th>\n",
       "      <th>1997</th>\n",
       "      <th>1998</th>\n",
       "      <th>1999</th>\n",
       "      <th>2000</th>\n",
       "      <th>2001</th>\n",
       "      <th>2002</th>\n",
       "      <th>2003</th>\n",
       "      <th>...</th>\n",
       "      <th>2007</th>\n",
       "      <th>2008</th>\n",
       "      <th>2009</th>\n",
       "      <th>2010</th>\n",
       "      <th>2011</th>\n",
       "      <th>2012</th>\n",
       "      <th>2013</th>\n",
       "      <th>2014</th>\n",
       "      <th>2015</th>\n",
       "      <th>2016</th>\n",
       "    </tr>\n",
       "    <tr>\n",
       "      <th>platform</th>\n",
       "      <th></th>\n",
       "      <th></th>\n",
       "      <th></th>\n",
       "      <th></th>\n",
       "      <th></th>\n",
       "      <th></th>\n",
       "      <th></th>\n",
       "      <th></th>\n",
       "      <th></th>\n",
       "      <th></th>\n",
       "      <th></th>\n",
       "      <th></th>\n",
       "      <th></th>\n",
       "      <th></th>\n",
       "      <th></th>\n",
       "      <th></th>\n",
       "      <th></th>\n",
       "      <th></th>\n",
       "      <th></th>\n",
       "      <th></th>\n",
       "      <th></th>\n",
       "    </tr>\n",
       "  </thead>\n",
       "  <tbody>\n",
       "    <tr>\n",
       "      <td>DS</td>\n",
       "      <td>0.00</td>\n",
       "      <td>0.0</td>\n",
       "      <td>0.00</td>\n",
       "      <td>0.0</td>\n",
       "      <td>0.00</td>\n",
       "      <td>0.00</td>\n",
       "      <td>0.00</td>\n",
       "      <td>0.00</td>\n",
       "      <td>0.00</td>\n",
       "      <td>0.00</td>\n",
       "      <td>...</td>\n",
       "      <td>135.85</td>\n",
       "      <td>134.37</td>\n",
       "      <td>110.99</td>\n",
       "      <td>79.48</td>\n",
       "      <td>24.30</td>\n",
       "      <td>10.42</td>\n",
       "      <td>1.42</td>\n",
       "      <td>0.00</td>\n",
       "      <td>0.00</td>\n",
       "      <td>0.00</td>\n",
       "    </tr>\n",
       "    <tr>\n",
       "      <td>GBA</td>\n",
       "      <td>0.00</td>\n",
       "      <td>0.0</td>\n",
       "      <td>0.00</td>\n",
       "      <td>0.0</td>\n",
       "      <td>0.00</td>\n",
       "      <td>0.00</td>\n",
       "      <td>0.07</td>\n",
       "      <td>59.62</td>\n",
       "      <td>72.35</td>\n",
       "      <td>55.31</td>\n",
       "      <td>...</td>\n",
       "      <td>3.35</td>\n",
       "      <td>0.00</td>\n",
       "      <td>0.00</td>\n",
       "      <td>0.00</td>\n",
       "      <td>0.00</td>\n",
       "      <td>0.00</td>\n",
       "      <td>0.00</td>\n",
       "      <td>0.00</td>\n",
       "      <td>0.00</td>\n",
       "      <td>0.00</td>\n",
       "    </tr>\n",
       "    <tr>\n",
       "      <td>PS</td>\n",
       "      <td>5.63</td>\n",
       "      <td>34.0</td>\n",
       "      <td>89.16</td>\n",
       "      <td>128.3</td>\n",
       "      <td>160.44</td>\n",
       "      <td>136.61</td>\n",
       "      <td>91.09</td>\n",
       "      <td>33.42</td>\n",
       "      <td>6.31</td>\n",
       "      <td>1.93</td>\n",
       "      <td>...</td>\n",
       "      <td>0.00</td>\n",
       "      <td>0.00</td>\n",
       "      <td>0.00</td>\n",
       "      <td>0.00</td>\n",
       "      <td>0.00</td>\n",
       "      <td>0.00</td>\n",
       "      <td>0.00</td>\n",
       "      <td>0.00</td>\n",
       "      <td>0.00</td>\n",
       "      <td>0.00</td>\n",
       "    </tr>\n",
       "    <tr>\n",
       "      <td>PS2</td>\n",
       "      <td>0.00</td>\n",
       "      <td>0.0</td>\n",
       "      <td>0.00</td>\n",
       "      <td>0.0</td>\n",
       "      <td>0.00</td>\n",
       "      <td>0.00</td>\n",
       "      <td>35.59</td>\n",
       "      <td>149.65</td>\n",
       "      <td>183.66</td>\n",
       "      <td>163.62</td>\n",
       "      <td>...</td>\n",
       "      <td>52.30</td>\n",
       "      <td>34.59</td>\n",
       "      <td>16.24</td>\n",
       "      <td>4.44</td>\n",
       "      <td>0.35</td>\n",
       "      <td>0.00</td>\n",
       "      <td>0.00</td>\n",
       "      <td>0.00</td>\n",
       "      <td>0.00</td>\n",
       "      <td>0.00</td>\n",
       "    </tr>\n",
       "    <tr>\n",
       "      <td>PS3</td>\n",
       "      <td>0.00</td>\n",
       "      <td>0.0</td>\n",
       "      <td>0.00</td>\n",
       "      <td>0.0</td>\n",
       "      <td>0.00</td>\n",
       "      <td>0.00</td>\n",
       "      <td>0.00</td>\n",
       "      <td>0.00</td>\n",
       "      <td>0.00</td>\n",
       "      <td>0.00</td>\n",
       "      <td>...</td>\n",
       "      <td>62.48</td>\n",
       "      <td>101.78</td>\n",
       "      <td>113.08</td>\n",
       "      <td>121.36</td>\n",
       "      <td>135.22</td>\n",
       "      <td>90.87</td>\n",
       "      <td>95.85</td>\n",
       "      <td>40.88</td>\n",
       "      <td>14.70</td>\n",
       "      <td>3.23</td>\n",
       "    </tr>\n",
       "    <tr>\n",
       "      <td>PS4</td>\n",
       "      <td>0.00</td>\n",
       "      <td>0.0</td>\n",
       "      <td>0.00</td>\n",
       "      <td>0.0</td>\n",
       "      <td>0.00</td>\n",
       "      <td>0.00</td>\n",
       "      <td>0.00</td>\n",
       "      <td>0.00</td>\n",
       "      <td>0.00</td>\n",
       "      <td>0.00</td>\n",
       "      <td>...</td>\n",
       "      <td>0.00</td>\n",
       "      <td>0.00</td>\n",
       "      <td>0.00</td>\n",
       "      <td>0.00</td>\n",
       "      <td>0.00</td>\n",
       "      <td>0.00</td>\n",
       "      <td>22.12</td>\n",
       "      <td>84.22</td>\n",
       "      <td>100.44</td>\n",
       "      <td>59.01</td>\n",
       "    </tr>\n",
       "    <tr>\n",
       "      <td>PSP</td>\n",
       "      <td>0.00</td>\n",
       "      <td>0.0</td>\n",
       "      <td>0.00</td>\n",
       "      <td>0.0</td>\n",
       "      <td>0.00</td>\n",
       "      <td>0.00</td>\n",
       "      <td>0.00</td>\n",
       "      <td>0.00</td>\n",
       "      <td>0.00</td>\n",
       "      <td>0.00</td>\n",
       "      <td>...</td>\n",
       "      <td>38.32</td>\n",
       "      <td>29.81</td>\n",
       "      <td>31.46</td>\n",
       "      <td>31.44</td>\n",
       "      <td>16.98</td>\n",
       "      <td>7.56</td>\n",
       "      <td>3.10</td>\n",
       "      <td>0.24</td>\n",
       "      <td>0.12</td>\n",
       "      <td>0.00</td>\n",
       "    </tr>\n",
       "    <tr>\n",
       "      <td>Wii</td>\n",
       "      <td>0.00</td>\n",
       "      <td>0.0</td>\n",
       "      <td>0.00</td>\n",
       "      <td>0.0</td>\n",
       "      <td>0.00</td>\n",
       "      <td>0.00</td>\n",
       "      <td>0.00</td>\n",
       "      <td>0.00</td>\n",
       "      <td>0.00</td>\n",
       "      <td>0.00</td>\n",
       "      <td>...</td>\n",
       "      <td>139.22</td>\n",
       "      <td>156.33</td>\n",
       "      <td>189.43</td>\n",
       "      <td>117.73</td>\n",
       "      <td>54.37</td>\n",
       "      <td>20.22</td>\n",
       "      <td>7.87</td>\n",
       "      <td>3.45</td>\n",
       "      <td>1.05</td>\n",
       "      <td>0.17</td>\n",
       "    </tr>\n",
       "    <tr>\n",
       "      <td>X360</td>\n",
       "      <td>0.00</td>\n",
       "      <td>0.0</td>\n",
       "      <td>0.00</td>\n",
       "      <td>0.0</td>\n",
       "      <td>0.00</td>\n",
       "      <td>0.00</td>\n",
       "      <td>0.00</td>\n",
       "      <td>0.00</td>\n",
       "      <td>0.00</td>\n",
       "      <td>0.00</td>\n",
       "      <td>...</td>\n",
       "      <td>86.68</td>\n",
       "      <td>122.56</td>\n",
       "      <td>109.26</td>\n",
       "      <td>155.80</td>\n",
       "      <td>131.11</td>\n",
       "      <td>91.45</td>\n",
       "      <td>80.82</td>\n",
       "      <td>31.61</td>\n",
       "      <td>10.86</td>\n",
       "      <td>1.40</td>\n",
       "    </tr>\n",
       "    <tr>\n",
       "      <td>XB</td>\n",
       "      <td>0.00</td>\n",
       "      <td>0.0</td>\n",
       "      <td>0.00</td>\n",
       "      <td>0.0</td>\n",
       "      <td>0.00</td>\n",
       "      <td>0.00</td>\n",
       "      <td>0.95</td>\n",
       "      <td>21.63</td>\n",
       "      <td>46.32</td>\n",
       "      <td>53.13</td>\n",
       "      <td>...</td>\n",
       "      <td>0.53</td>\n",
       "      <td>0.17</td>\n",
       "      <td>0.00</td>\n",
       "      <td>0.00</td>\n",
       "      <td>0.00</td>\n",
       "      <td>0.00</td>\n",
       "      <td>0.00</td>\n",
       "      <td>0.00</td>\n",
       "      <td>0.00</td>\n",
       "      <td>0.00</td>\n",
       "    </tr>\n",
       "  </tbody>\n",
       "</table>\n",
       "<p>10 rows × 23 columns</p>\n",
       "</div>"
      ],
      "text/plain": [
       "year_of_release  1994  1995   1996   1997    1998    1999   2000    2001  \\\n",
       "platform                                                                   \n",
       "DS               0.00   0.0   0.00    0.0    0.00    0.00   0.00    0.00   \n",
       "GBA              0.00   0.0   0.00    0.0    0.00    0.00   0.07   59.62   \n",
       "PS               5.63  34.0  89.16  128.3  160.44  136.61  91.09   33.42   \n",
       "PS2              0.00   0.0   0.00    0.0    0.00    0.00  35.59  149.65   \n",
       "PS3              0.00   0.0   0.00    0.0    0.00    0.00   0.00    0.00   \n",
       "PS4              0.00   0.0   0.00    0.0    0.00    0.00   0.00    0.00   \n",
       "PSP              0.00   0.0   0.00    0.0    0.00    0.00   0.00    0.00   \n",
       "Wii              0.00   0.0   0.00    0.0    0.00    0.00   0.00    0.00   \n",
       "X360             0.00   0.0   0.00    0.0    0.00    0.00   0.00    0.00   \n",
       "XB               0.00   0.0   0.00    0.0    0.00    0.00   0.95   21.63   \n",
       "\n",
       "year_of_release    2002    2003  ...    2007    2008    2009    2010    2011  \\\n",
       "platform                         ...                                           \n",
       "DS                 0.00    0.00  ...  135.85  134.37  110.99   79.48   24.30   \n",
       "GBA               72.35   55.31  ...    3.35    0.00    0.00    0.00    0.00   \n",
       "PS                 6.31    1.93  ...    0.00    0.00    0.00    0.00    0.00   \n",
       "PS2              183.66  163.62  ...   52.30   34.59   16.24    4.44    0.35   \n",
       "PS3                0.00    0.00  ...   62.48  101.78  113.08  121.36  135.22   \n",
       "PS4                0.00    0.00  ...    0.00    0.00    0.00    0.00    0.00   \n",
       "PSP                0.00    0.00  ...   38.32   29.81   31.46   31.44   16.98   \n",
       "Wii                0.00    0.00  ...  139.22  156.33  189.43  117.73   54.37   \n",
       "X360               0.00    0.00  ...   86.68  122.56  109.26  155.80  131.11   \n",
       "XB                46.32   53.13  ...    0.53    0.17    0.00    0.00    0.00   \n",
       "\n",
       "year_of_release   2012   2013   2014    2015   2016  \n",
       "platform                                             \n",
       "DS               10.42   1.42   0.00    0.00   0.00  \n",
       "GBA               0.00   0.00   0.00    0.00   0.00  \n",
       "PS                0.00   0.00   0.00    0.00   0.00  \n",
       "PS2               0.00   0.00   0.00    0.00   0.00  \n",
       "PS3              90.87  95.85  40.88   14.70   3.23  \n",
       "PS4               0.00  22.12  84.22  100.44  59.01  \n",
       "PSP               7.56   3.10   0.24    0.12   0.00  \n",
       "Wii              20.22   7.87   3.45    1.05   0.17  \n",
       "X360             91.45  80.82  31.61   10.86   1.40  \n",
       "XB                0.00   0.00   0.00    0.00   0.00  \n",
       "\n",
       "[10 rows x 23 columns]"
      ]
     },
     "execution_count": 30,
     "metadata": {},
     "output_type": "execute_result"
    }
   ],
   "source": [
    "year_series.T"
   ]
  },
  {
   "cell_type": "code",
   "execution_count": 31,
   "metadata": {
    "scrolled": false
   },
   "outputs": [
    {
     "data": {
      "text/plain": [
       "<matplotlib.axes._subplots.AxesSubplot at 0x7f4eae00c250>"
      ]
     },
     "execution_count": 31,
     "metadata": {},
     "output_type": "execute_result"
    },
    {
     "data": {
      "image/png": "[encoded data removed]",
      "text/plain": [
       "<Figure size 1296x504 with 2 Axes>"
      ]
     },
     "metadata": {
      "needs_background": "light"
     },
     "output_type": "display_data"
    }
   ],
   "source": [
    "plt.figure(figsize=(18,7))\n",
    "sns.heatmap(year_series, cmap='YlGnBu', linewidths=.5, annot=True)"
   ]
  },
  {
   "cell_type": "code",
   "execution_count": 1,
   "metadata": {},
   "outputs": [],
   "source": [
    "# Оценка длительности продаж каждой платформы  "
   ]
  },
  {
   "cell_type": "markdown",
   "metadata": {},
   "source": [
    "Более подробно рассмотрим период с 2013 по 2016 гг."
   ]
  },
  {
   "cell_type": "code",
   "execution_count": 32,
   "metadata": {},
   "outputs": [
    {
     "data": {
      "text/html": [
       "<div>\n",
       "<style scoped>\n",
       "    .dataframe tbody tr th:only-of-type {\n",
       "        vertical-align: middle;\n",
       "    }\n",
       "\n",
       "    .dataframe tbody tr th {\n",
       "        vertical-align: top;\n",
       "    }\n",
       "\n",
       "    .dataframe thead th {\n",
       "        text-align: right;\n",
       "    }\n",
       "</style>\n",
       "<table border=\"1\" class=\"dataframe\">\n",
       "  <thead>\n",
       "    <tr style=\"text-align: right;\">\n",
       "      <th>platform</th>\n",
       "      <th>DS</th>\n",
       "      <th>GBA</th>\n",
       "      <th>PS</th>\n",
       "      <th>PS2</th>\n",
       "      <th>PS3</th>\n",
       "      <th>PS4</th>\n",
       "      <th>PSP</th>\n",
       "      <th>Wii</th>\n",
       "      <th>X360</th>\n",
       "      <th>XB</th>\n",
       "    </tr>\n",
       "    <tr>\n",
       "      <th>year_of_release</th>\n",
       "      <th></th>\n",
       "      <th></th>\n",
       "      <th></th>\n",
       "      <th></th>\n",
       "      <th></th>\n",
       "      <th></th>\n",
       "      <th></th>\n",
       "      <th></th>\n",
       "      <th></th>\n",
       "      <th></th>\n",
       "    </tr>\n",
       "  </thead>\n",
       "  <tbody>\n",
       "    <tr>\n",
       "      <td>2013</td>\n",
       "      <td>1.42</td>\n",
       "      <td>0.0</td>\n",
       "      <td>0.0</td>\n",
       "      <td>0.0</td>\n",
       "      <td>95.85</td>\n",
       "      <td>22.12</td>\n",
       "      <td>3.10</td>\n",
       "      <td>7.87</td>\n",
       "      <td>80.82</td>\n",
       "      <td>0.0</td>\n",
       "    </tr>\n",
       "    <tr>\n",
       "      <td>2014</td>\n",
       "      <td>0.00</td>\n",
       "      <td>0.0</td>\n",
       "      <td>0.0</td>\n",
       "      <td>0.0</td>\n",
       "      <td>40.88</td>\n",
       "      <td>84.22</td>\n",
       "      <td>0.24</td>\n",
       "      <td>3.45</td>\n",
       "      <td>31.61</td>\n",
       "      <td>0.0</td>\n",
       "    </tr>\n",
       "    <tr>\n",
       "      <td>2015</td>\n",
       "      <td>0.00</td>\n",
       "      <td>0.0</td>\n",
       "      <td>0.0</td>\n",
       "      <td>0.0</td>\n",
       "      <td>14.70</td>\n",
       "      <td>100.44</td>\n",
       "      <td>0.12</td>\n",
       "      <td>1.05</td>\n",
       "      <td>10.86</td>\n",
       "      <td>0.0</td>\n",
       "    </tr>\n",
       "    <tr>\n",
       "      <td>2016</td>\n",
       "      <td>0.00</td>\n",
       "      <td>0.0</td>\n",
       "      <td>0.0</td>\n",
       "      <td>0.0</td>\n",
       "      <td>3.23</td>\n",
       "      <td>59.01</td>\n",
       "      <td>0.00</td>\n",
       "      <td>0.17</td>\n",
       "      <td>1.40</td>\n",
       "      <td>0.0</td>\n",
       "    </tr>\n",
       "  </tbody>\n",
       "</table>\n",
       "</div>"
      ],
      "text/plain": [
       "platform           DS  GBA   PS  PS2    PS3     PS4   PSP   Wii   X360   XB\n",
       "year_of_release                                                            \n",
       "2013             1.42  0.0  0.0  0.0  95.85   22.12  3.10  7.87  80.82  0.0\n",
       "2014             0.00  0.0  0.0  0.0  40.88   84.22  0.24  3.45  31.61  0.0\n",
       "2015             0.00  0.0  0.0  0.0  14.70  100.44  0.12  1.05  10.86  0.0\n",
       "2016             0.00  0.0  0.0  0.0   3.23   59.01  0.00  0.17   1.40  0.0"
      ]
     },
     "execution_count": 32,
     "metadata": {},
     "output_type": "execute_result"
    }
   ],
   "source": [
    "year_series = year_series[year_series.index >= 2013]\n",
    "year_series"
   ]
  },
  {
   "cell_type": "markdown",
   "metadata": {},
   "source": [
    "Как уже и говоролось ранее, в своей активной коммерческой фазе пребывает PS4, тогда как лидеры по продажам 2013 года: PS3 и X360 к 2016 году уже исчерпали свой ресурс. Возможно PC еще может представлять для нас интерес."
   ]
  },
  {
   "cell_type": "markdown",
   "metadata": {},
   "source": [
    "**Глобальные продажи всех игр по платформам**"
   ]
  },
  {
   "cell_type": "code",
   "execution_count": 33,
   "metadata": {},
   "outputs": [
    {
     "data": {
      "text/plain": [
       "(0, 2)"
      ]
     },
     "execution_count": 33,
     "metadata": {},
     "output_type": "execute_result"
    },
    {
     "data": {
      "image/png": "[encoded data removed]",
      "text/plain": [
       "<Figure size 871.2x396 with 1 Axes>"
      ]
     },
     "metadata": {
      "needs_background": "light"
     },
     "output_type": "display_data"
    }
   ],
   "source": [
    "good_data = data.query('year_of_release >= 2013')\n",
    "sns.catplot(x=\"platform\", \n",
    "            y='total_sales', \n",
    "            kind=\"box\", \n",
    "            data=good_data, \n",
    "            orient='v', \n",
    "            height=5.5, \n",
    "            aspect=2.2,\n",
    "            )\n",
    "plt.ylim(0, 2)"
   ]
  },
  {
   "cell_type": "code",
   "execution_count": 34,
   "metadata": {},
   "outputs": [
    {
     "data": {
      "text/html": [
       "<div>\n",
       "<style scoped>\n",
       "    .dataframe tbody tr th:only-of-type {\n",
       "        vertical-align: middle;\n",
       "    }\n",
       "\n",
       "    .dataframe tbody tr th {\n",
       "        vertical-align: top;\n",
       "    }\n",
       "\n",
       "    .dataframe thead th {\n",
       "        text-align: right;\n",
       "    }\n",
       "</style>\n",
       "<table border=\"1\" class=\"dataframe\">\n",
       "  <thead>\n",
       "    <tr style=\"text-align: right;\">\n",
       "      <th></th>\n",
       "      <th>total_sales</th>\n",
       "    </tr>\n",
       "    <tr>\n",
       "      <th>platform</th>\n",
       "      <th></th>\n",
       "    </tr>\n",
       "  </thead>\n",
       "  <tbody>\n",
       "    <tr>\n",
       "      <td>PS4</td>\n",
       "      <td>265.79</td>\n",
       "    </tr>\n",
       "    <tr>\n",
       "      <td>PS3</td>\n",
       "      <td>154.66</td>\n",
       "    </tr>\n",
       "    <tr>\n",
       "      <td>XOne</td>\n",
       "      <td>145.05</td>\n",
       "    </tr>\n",
       "    <tr>\n",
       "      <td>3DS</td>\n",
       "      <td>136.97</td>\n",
       "    </tr>\n",
       "    <tr>\n",
       "      <td>X360</td>\n",
       "      <td>124.69</td>\n",
       "    </tr>\n",
       "    <tr>\n",
       "      <td>WiiU</td>\n",
       "      <td>59.94</td>\n",
       "    </tr>\n",
       "    <tr>\n",
       "      <td>PC</td>\n",
       "      <td>36.47</td>\n",
       "    </tr>\n",
       "    <tr>\n",
       "      <td>PSV</td>\n",
       "      <td>29.73</td>\n",
       "    </tr>\n",
       "    <tr>\n",
       "      <td>Wii</td>\n",
       "      <td>12.54</td>\n",
       "    </tr>\n",
       "    <tr>\n",
       "      <td>PSP</td>\n",
       "      <td>3.46</td>\n",
       "    </tr>\n",
       "    <tr>\n",
       "      <td>DS</td>\n",
       "      <td>1.42</td>\n",
       "    </tr>\n",
       "  </tbody>\n",
       "</table>\n",
       "</div>"
      ],
      "text/plain": [
       "          total_sales\n",
       "platform             \n",
       "PS4            265.79\n",
       "PS3            154.66\n",
       "XOne           145.05\n",
       "3DS            136.97\n",
       "X360           124.69\n",
       "WiiU            59.94\n",
       "PC              36.47\n",
       "PSV             29.73\n",
       "Wii             12.54\n",
       "PSP              3.46\n",
       "DS               1.42"
      ]
     },
     "execution_count": 34,
     "metadata": {},
     "output_type": "execute_result"
    }
   ],
   "source": [
    "global_sales = good_data.pivot_table(index='platform', values='total_sales', aggfunc='sum')\n",
    "\n",
    "global_sales = global_sales.sort_values(by='total_sales', ascending=False)\n",
    "global_sales"
   ]
  },
  {
   "cell_type": "markdown",
   "metadata": {},
   "source": [
    "К лидерам по продажам за актуальный период (2013-2016 гг.) относятся PS4, PS3 и XOne."
   ]
  },
  {
   "cell_type": "markdown",
   "metadata": {},
   "source": [
    "**Влияние отзывов на продажи игр для платформы PS4**\n",
    "\n",
    "Рассмотрим влияние отзывов пользователей и критиков на продажи игр для самой популярной платформы на период 2013-2016 гг."
   ]
  },
  {
   "cell_type": "code",
   "execution_count": 35,
   "metadata": {
    "scrolled": true
   },
   "outputs": [],
   "source": [
    "ps_4 = good_data.query('platform == \"PS4\" and (user_score != -1) and (critic_score != -1)')\n",
    "# ps_4.head()"
   ]
  },
  {
   "cell_type": "markdown",
   "metadata": {},
   "source": [
    "Построим диаграммы рассеяния и посчитаем корреляцию между отзывами и продажами."
   ]
  },
  {
   "cell_type": "code",
   "execution_count": 36,
   "metadata": {},
   "outputs": [
    {
     "data": {
      "text/plain": [
       "Text(0.5, 0, 'Рейтинг критиков')"
      ]
     },
     "execution_count": 36,
     "metadata": {},
     "output_type": "execute_result"
    },
    {
     "data": {
      "image/png": "[encoded data removed]",
      "text/plain": [
       "<Figure size 432x288 with 1 Axes>"
      ]
     },
     "metadata": {
      "needs_background": "light"
     },
     "output_type": "display_data"
    }
   ],
   "source": [
    "ps_4.plot(kind='scatter', x='critic_score', y='total_sales', grid=True)\n",
    "plt.ylim(0, 9)\n",
    "plt.ylabel('Продажи')\n",
    "plt.xlabel('Рейтинг критиков')"
   ]
  },
  {
   "cell_type": "code",
   "execution_count": 37,
   "metadata": {},
   "outputs": [
    {
     "data": {
      "text/plain": [
       "0.41"
      ]
     },
     "execution_count": 37,
     "metadata": {},
     "output_type": "execute_result"
    }
   ],
   "source": [
    "# Определим коэффициент корреляции\n",
    "round(ps_4['critic_score'].corr(ps_4['total_sales']), 2)"
   ]
  },
  {
   "cell_type": "code",
   "execution_count": 38,
   "metadata": {},
   "outputs": [
    {
     "data": {
      "text/plain": [
       "Text(0.5, 0, 'Рейтинг пользователей')"
      ]
     },
     "execution_count": 38,
     "metadata": {},
     "output_type": "execute_result"
    },
    {
     "data": {
      "image/png": "[encoded data removed]",
      "text/plain": [
       "<Figure size 432x288 with 1 Axes>"
      ]
     },
     "metadata": {
      "needs_background": "light"
     },
     "output_type": "display_data"
    }
   ],
   "source": [
    "ps_4.plot(kind='scatter', x='user_score', y='total_sales', grid=True)\n",
    "plt.ylim(0, 9)\n",
    "plt.ylabel('Продажи')\n",
    "plt.xlabel('Рейтинг пользователей')"
   ]
  },
  {
   "cell_type": "code",
   "execution_count": 39,
   "metadata": {},
   "outputs": [
    {
     "data": {
      "text/plain": [
       "-0.03"
      ]
     },
     "execution_count": 39,
     "metadata": {},
     "output_type": "execute_result"
    }
   ],
   "source": [
    "# Определим коэффициент корреляции\n",
    "round(ps_4['user_score'].corr(ps_4['total_sales']), 2)"
   ]
  },
  {
   "cell_type": "markdown",
   "metadata": {},
   "source": [
    "Как мы можем видеть, отзывы пользователей никак не влияют на продажи игр, в то время, кк отзывы критиков имеют некоторый вес: коэффициенты корреляции -0.03 и 0.41 соответственно."
   ]
  },
  {
   "cell_type": "markdown",
   "metadata": {},
   "source": [
    "Сравним выводы для PS4 с продажами для остальных платформ."
   ]
  },
  {
   "cell_type": "code",
   "execution_count": 40,
   "metadata": {},
   "outputs": [
    {
     "name": "stdout",
     "output_type": "stream",
     "text": [
      "\n",
      "PS3:\n",
      "Коэффициент корреляции между critic_score и total_sales равен 0.34\n",
      "Коэффициент корреляции между user_score и total_sales равен 0.02\n",
      "\n",
      "X360:\n",
      "Коэффициент корреляции между critic_score и total_sales равен 0.35\n",
      "Коэффициент корреляции между user_score и total_sales равен -0.01\n",
      "\n",
      "PC:\n",
      "Коэффициент корреляции между critic_score и total_sales равен 0.2\n",
      "Коэффициент корреляции между user_score и total_sales равен -0.11\n",
      "\n",
      "XOne:\n",
      "Коэффициент корреляции между critic_score и total_sales равен 0.41\n",
      "Коэффициент корреляции между user_score и total_sales равен -0.09\n"
     ]
    }
   ],
   "source": [
    "for platform in ['PS3', 'X360', 'PC', 'XOne']:\n",
    "    \n",
    "    print('\\n{}:'.format(platform))\n",
    "    \n",
    "    for column in ['critic_score', 'user_score']:\n",
    "        \n",
    "        game_platform = good_data.query('platform == @platform and (user_score != -1) and (critic_score != -1)')\n",
    "        \n",
    "        print('Коэффициент корреляции между {0} и total_sales равен {1}'.\n",
    "              format(column, round(game_platform[column].corr(game_platform['total_sales']), 2)))"
   ]
  },
  {
   "cell_type": "markdown",
   "metadata": {},
   "source": [
    "#### Вывод\n",
    "\n",
    "В качестве вывода скажем, что ситуация аналогична и для других платформ. Следовательно, **для всех платформ характерно среднее влияние отзывов критиков на продажи и практически полное отсутствие влияния отзывов пользователей**\n",
    "\n",
    "(написал как то не совсем по русски :-))"
   ]
  },
  {
   "cell_type": "markdown",
   "metadata": {},
   "source": [
    "**Распределим игры по жанрам**"
   ]
  },
  {
   "cell_type": "code",
   "execution_count": 41,
   "metadata": {},
   "outputs": [
    {
     "data": {
      "text/html": [
       "<div>\n",
       "<style scoped>\n",
       "    .dataframe tbody tr th:only-of-type {\n",
       "        vertical-align: middle;\n",
       "    }\n",
       "\n",
       "    .dataframe tbody tr th {\n",
       "        vertical-align: top;\n",
       "    }\n",
       "\n",
       "    .dataframe thead th {\n",
       "        text-align: right;\n",
       "    }\n",
       "</style>\n",
       "<table border=\"1\" class=\"dataframe\">\n",
       "  <thead>\n",
       "    <tr style=\"text-align: right;\">\n",
       "      <th></th>\n",
       "      <th>total_sales</th>\n",
       "    </tr>\n",
       "    <tr>\n",
       "      <th>genre</th>\n",
       "      <th></th>\n",
       "    </tr>\n",
       "  </thead>\n",
       "  <tbody>\n",
       "    <tr>\n",
       "      <td>Action</td>\n",
       "      <td>284.67</td>\n",
       "    </tr>\n",
       "    <tr>\n",
       "      <td>Shooter</td>\n",
       "      <td>204.21</td>\n",
       "    </tr>\n",
       "    <tr>\n",
       "      <td>Role-Playing</td>\n",
       "      <td>134.41</td>\n",
       "    </tr>\n",
       "    <tr>\n",
       "      <td>Sports</td>\n",
       "      <td>131.20</td>\n",
       "    </tr>\n",
       "    <tr>\n",
       "      <td>Misc</td>\n",
       "      <td>56.73</td>\n",
       "    </tr>\n",
       "    <tr>\n",
       "      <td>Platform</td>\n",
       "      <td>38.51</td>\n",
       "    </tr>\n",
       "    <tr>\n",
       "      <td>Racing</td>\n",
       "      <td>35.45</td>\n",
       "    </tr>\n",
       "    <tr>\n",
       "      <td>Fighting</td>\n",
       "      <td>31.75</td>\n",
       "    </tr>\n",
       "    <tr>\n",
       "      <td>Adventure</td>\n",
       "      <td>21.21</td>\n",
       "    </tr>\n",
       "    <tr>\n",
       "      <td>Simulation</td>\n",
       "      <td>20.30</td>\n",
       "    </tr>\n",
       "    <tr>\n",
       "      <td>Strategy</td>\n",
       "      <td>9.27</td>\n",
       "    </tr>\n",
       "    <tr>\n",
       "      <td>Puzzle</td>\n",
       "      <td>3.01</td>\n",
       "    </tr>\n",
       "  </tbody>\n",
       "</table>\n",
       "</div>"
      ],
      "text/plain": [
       "              total_sales\n",
       "genre                    \n",
       "Action             284.67\n",
       "Shooter            204.21\n",
       "Role-Playing       134.41\n",
       "Sports             131.20\n",
       "Misc                56.73\n",
       "Platform            38.51\n",
       "Racing              35.45\n",
       "Fighting            31.75\n",
       "Adventure           21.21\n",
       "Simulation          20.30\n",
       "Strategy             9.27\n",
       "Puzzle               3.01"
      ]
     },
     "execution_count": 41,
     "metadata": {},
     "output_type": "execute_result"
    }
   ],
   "source": [
    "genre_sales = good_data.pivot_table(index='genre', values='total_sales', aggfunc='sum')\n",
    "genre_sales = genre_sales.sort_values(by='total_sales', ascending=False)\n",
    "genre_sales"
   ]
  },
  {
   "cell_type": "code",
   "execution_count": 42,
   "metadata": {},
   "outputs": [
    {
     "data": {
      "text/plain": [
       "(0, 2)"
      ]
     },
     "execution_count": 42,
     "metadata": {},
     "output_type": "execute_result"
    },
    {
     "data": {
      "image/png": "[encoded data removed]",
      "text/plain": [
       "<Figure size 871.2x396 with 1 Axes>"
      ]
     },
     "metadata": {
      "needs_background": "light"
     },
     "output_type": "display_data"
    }
   ],
   "source": [
    "sns.catplot(x='genre',\n",
    "           y='total_sales',\n",
    "           kind='box',\n",
    "           data=good_data,\n",
    "           height=5.5,\n",
    "           aspect=2.2)\n",
    "plt.ylim(0, 2)"
   ]
  },
  {
   "cell_type": "markdown",
   "metadata": {},
   "source": [
    "Как мы можем видеть по средним продажам лидирует жанр `Shooter`, в сравнении с остальными жанрами. А вот `Action` напротив отстает (по этому критерию), но является попклярным жанром из-за наибольшего объема продаж. Приключеньческие игры и головоломки занимают самую нишу как по абсолютным, так и по средним продажам: многие любят красивый боевик."
   ]
  },
  {
   "cell_type": "markdown",
   "metadata": {},
   "source": [
    "Ради интереса можно посмотреть, какие жанры у самых продаваемых игр за все время."
   ]
  },
  {
   "cell_type": "code",
   "execution_count": 43,
   "metadata": {},
   "outputs": [
    {
     "data": {
      "text/html": [
       "<div>\n",
       "<style scoped>\n",
       "    .dataframe tbody tr th:only-of-type {\n",
       "        vertical-align: middle;\n",
       "    }\n",
       "\n",
       "    .dataframe tbody tr th {\n",
       "        vertical-align: top;\n",
       "    }\n",
       "\n",
       "    .dataframe thead th {\n",
       "        text-align: right;\n",
       "    }\n",
       "</style>\n",
       "<table border=\"1\" class=\"dataframe\">\n",
       "  <thead>\n",
       "    <tr style=\"text-align: right;\">\n",
       "      <th></th>\n",
       "      <th></th>\n",
       "      <th>total_sales</th>\n",
       "    </tr>\n",
       "    <tr>\n",
       "      <th>name</th>\n",
       "      <th>genre</th>\n",
       "      <th></th>\n",
       "    </tr>\n",
       "  </thead>\n",
       "  <tbody>\n",
       "    <tr>\n",
       "      <td>Wii Sports</td>\n",
       "      <td>Sports</td>\n",
       "      <td>74.09</td>\n",
       "    </tr>\n",
       "    <tr>\n",
       "      <td>Grand Theft Auto V</td>\n",
       "      <td>Action</td>\n",
       "      <td>48.68</td>\n",
       "    </tr>\n",
       "    <tr>\n",
       "      <td>Super Mario Bros.</td>\n",
       "      <td>Platform</td>\n",
       "      <td>44.32</td>\n",
       "    </tr>\n",
       "    <tr>\n",
       "      <td>Tetris</td>\n",
       "      <td>Puzzle</td>\n",
       "      <td>35.15</td>\n",
       "    </tr>\n",
       "    <tr>\n",
       "      <td>Mario Kart Wii</td>\n",
       "      <td>Racing</td>\n",
       "      <td>32.23</td>\n",
       "    </tr>\n",
       "  </tbody>\n",
       "</table>\n",
       "</div>"
      ],
      "text/plain": [
       "                             total_sales\n",
       "name               genre                \n",
       "Wii Sports         Sports          74.09\n",
       "Grand Theft Auto V Action          48.68\n",
       "Super Mario Bros.  Platform        44.32\n",
       "Tetris             Puzzle          35.15\n",
       "Mario Kart Wii     Racing          32.23"
      ]
     },
     "execution_count": 43,
     "metadata": {},
     "output_type": "execute_result"
    }
   ],
   "source": [
    "(data\n",
    " .pivot_table(index=['name', 'genre'], values='total_sales', aggfunc='sum')\n",
    " .sort_values(by='total_sales', ascending=False)\n",
    " .head())"
   ]
  },
  {
   "cell_type": "markdown",
   "metadata": {},
   "source": [
    "Удивительно!!! На первом месте не игры жанра Action или Shooter, а игра из жанра Sports. Action только на втором месте, а замыкает тройку лидеров жанр Platform."
   ]
  },
  {
   "cell_type": "markdown",
   "metadata": {},
   "source": [
    "### Шаг 4. Составим портрет пользователя каждого региона"
   ]
  },
  {
   "cell_type": "markdown",
   "metadata": {},
   "source": [
    "1. **Топ-5 самых популярных платформ для Северной Америки, Европы и Японии**"
   ]
  },
  {
   "cell_type": "code",
   "execution_count": 44,
   "metadata": {
    "scrolled": true
   },
   "outputs": [],
   "source": [
    "# data.head()"
   ]
  },
  {
   "cell_type": "code",
   "execution_count": 45,
   "metadata": {},
   "outputs": [
    {
     "name": "stdout",
     "output_type": "stream",
     "text": [
      "\n",
      "           na_sales  ratio\n",
      "platform                 \n",
      "PS4         108.74   0.25\n",
      "XOne         93.12   0.21\n",
      "X360         81.66   0.19\n",
      "PS3          63.50   0.15\n",
      "3DS          38.20   0.09\n",
      "\n",
      "           eu_sales  ratio\n",
      "platform                 \n",
      "PS4         141.09   0.36\n",
      "PS3          67.81   0.17\n",
      "XOne         51.59   0.13\n",
      "X360         42.52   0.11\n",
      "3DS          30.96   0.08\n",
      "\n",
      "           jp_sales  ratio\n",
      "platform                 \n",
      "3DS          67.81   0.48\n",
      "PS3          23.35   0.17\n",
      "PSV          18.59   0.13\n",
      "PS4          15.96   0.11\n",
      "WiiU         10.88   0.08\n"
     ]
    }
   ],
   "source": [
    "for column in ['na_sales', 'eu_sales', 'jp_sales']:\n",
    "    region = (good_data\n",
    "            .pivot_table(index='platform', values=column, aggfunc='sum')\n",
    "            .sort_values(by=column, ascending=False))\n",
    "    region['ratio'] = round(region[column] / region[column].sum(), 2)\n",
    "    print('\\n', region[0:5])"
   ]
  },
  {
   "cell_type": "markdown",
   "metadata": {},
   "source": [
    "Любопытно, что в то время, как набор Топ-5 платформ в Америке и Европе одинаковый и различается лишь долями продаж, то в Японии данный Топ координально отличается. (Люди с другой планеты...). \n",
    "Если в первых двух регионах лидиром являеется PS4, то  Японии данная платформа занимает лишь 4-е место. А на первом месте на Родине Самураев платформа 3DS, которая Америке и Европе на 5-ой позиции рейтинга. "
   ]
  },
  {
   "cell_type": "markdown",
   "metadata": {},
   "source": [
    "2. **Топ-5 самых популярных жанров для Северной Америки, Европы и Японии**"
   ]
  },
  {
   "cell_type": "code",
   "execution_count": 46,
   "metadata": {},
   "outputs": [
    {
     "name": "stdout",
     "output_type": "stream",
     "text": [
      "\n",
      "               na_sales  ratio\n",
      "genre                        \n",
      "Action          126.05   0.29\n",
      "Shooter         109.74   0.25\n",
      "Sports           65.27   0.15\n",
      "Role-Playing     46.40   0.11\n",
      "Misc             27.49   0.06\n",
      "\n",
      "               eu_sales  ratio\n",
      "genre                        \n",
      "Action          118.13   0.30\n",
      "Shooter          87.86   0.22\n",
      "Sports           60.52   0.15\n",
      "Role-Playing     36.97   0.09\n",
      "Racing           20.19   0.05\n",
      "\n",
      "               jp_sales  ratio\n",
      "genre                        \n",
      "Role-Playing     51.04   0.36\n",
      "Action           40.49   0.29\n",
      "Misc              9.20   0.07\n",
      "Fighting          7.65   0.05\n",
      "Shooter           6.61   0.05\n"
     ]
    }
   ],
   "source": [
    "for column in ['na_sales', 'eu_sales', 'jp_sales']:\n",
    "    region = (good_data\n",
    "            .pivot_table(index='genre', values=column, aggfunc='sum')\n",
    "            .sort_values(by=column, ascending=False))\n",
    "    region['ratio'] = round(region[column] / region[column].sum(), 2)\n",
    "    print('\\n', region[0:5])"
   ]
  },
  {
   "cell_type": "markdown",
   "metadata": {},
   "source": [
    "Не удивительно, что и в жанрах игр Япония выделяется. Когда Топ-5 жанров в Америке и Европе отличается лишь 5-ой позицией: в Америке жанр Misc, а в Европе жанр Racing, Топ-5 в Японии координально отличается от вышеописанных. Обожаемый на западе и в Европе жанр Shooter в японском чарте находится на последнем - 5-ом месте. А жанр Role-Playing, котрый закрепился на 4-ом месте на континентах, в Стране Восходящего солнца является лидером."
   ]
  },
  {
   "cell_type": "markdown",
   "metadata": {},
   "source": [
    "3. **Влияние  рейтинга ESRB на продажи в отдельном регионе**"
   ]
  },
  {
   "cell_type": "code",
   "execution_count": 47,
   "metadata": {},
   "outputs": [],
   "source": [
    "# good_data['rating'].value_counts()"
   ]
  },
  {
   "cell_type": "markdown",
   "metadata": {},
   "source": [
    "Рейтинги ESRB (https://www.esrb.org/ratings-guide/):\n",
    "\n",
    "- E - от 6 лет\n",
    "- E10+ - от 10 лет\n",
    "- T - от 13 лет\n",
    "- M - от 17 лет"
   ]
  },
  {
   "cell_type": "code",
   "execution_count": 48,
   "metadata": {},
   "outputs": [
    {
     "name": "stdout",
     "output_type": "stream",
     "text": [
      "\n",
      "         na_sales  ratio\n",
      "rating                 \n",
      "M         165.21   0.47\n",
      "E          79.05   0.23\n",
      "E10+       54.24   0.16\n",
      "T          49.79   0.14\n",
      "\n",
      "         eu_sales  ratio\n",
      "rating                 \n",
      "M         145.32   0.46\n",
      "E          83.36   0.27\n",
      "E10+       42.69   0.14\n",
      "T          41.95   0.13\n",
      "\n",
      "         jp_sales  ratio\n",
      "rating                 \n",
      "T          20.59   0.37\n",
      "E          15.14   0.27\n",
      "M          14.11   0.25\n",
      "E10+        5.89   0.11\n"
     ]
    }
   ],
   "source": [
    "for column in ['na_sales', 'eu_sales', 'jp_sales']:\n",
    "    region = (good_data[good_data['rating'] != -1]\n",
    "            .pivot_table(index='rating', values=column, aggfunc='sum')\n",
    "            .sort_values(by=column, ascending=False))\n",
    "    region['ratio'] = round(region[column] / region[column].sum(), 2)\n",
    "    print('\\n', region[0:5])"
   ]
  },
  {
   "cell_type": "markdown",
   "metadata": {},
   "source": [
    "Запад и Восток вновь отличаются по популярности рейтингов: на Западе популярностью пользуются игры для лиц старше 17 лет, тогда как на Востоке первое место по продажам принадлежит играм для подростков (от 13 лет и старше). Значит ли это, что на Западе чаще всего играют люди более взрослые, чем на Востоке? Неизвестно, поскольку непонятно, соответствует ли возраст игроков разрешенному рейтингу. Интересно, что взрослые игры в Японии лишь на третьем месте по популярности. Второе местро и на Западе, и на Востоке принадлежит рейтингу E."
   ]
  },
  {
   "cell_type": "markdown",
   "metadata": {},
   "source": [
    "### Шаг 5. Проверим гипотезы"
   ]
  },
  {
   "cell_type": "markdown",
   "metadata": {},
   "source": [
    "1. \n",
    "\n",
    " - Нулевая гипотеза - средние пользовательские рейтинги платформ Xbox One и PC одинаковые. \n",
    " - Альтернативная гипотеза - средние пользовательские рейтинги платформ Xbox One и PC разные."
   ]
  },
  {
   "cell_type": "code",
   "execution_count": 49,
   "metadata": {
    "scrolled": true
   },
   "outputs": [
    {
     "data": {
      "text/html": [
       "<div>\n",
       "<style scoped>\n",
       "    .dataframe tbody tr th:only-of-type {\n",
       "        vertical-align: middle;\n",
       "    }\n",
       "\n",
       "    .dataframe tbody tr th {\n",
       "        vertical-align: top;\n",
       "    }\n",
       "\n",
       "    .dataframe thead th {\n",
       "        text-align: right;\n",
       "    }\n",
       "</style>\n",
       "<table border=\"1\" class=\"dataframe\">\n",
       "  <thead>\n",
       "    <tr style=\"text-align: right;\">\n",
       "      <th></th>\n",
       "      <th>name</th>\n",
       "      <th>platform</th>\n",
       "      <th>year_of_release</th>\n",
       "      <th>genre</th>\n",
       "      <th>na_sales</th>\n",
       "      <th>eu_sales</th>\n",
       "      <th>jp_sales</th>\n",
       "      <th>other_sales</th>\n",
       "      <th>critic_score</th>\n",
       "      <th>user_score</th>\n",
       "      <th>rating</th>\n",
       "      <th>total_sales</th>\n",
       "    </tr>\n",
       "  </thead>\n",
       "  <tbody>\n",
       "    <tr>\n",
       "      <td>16</td>\n",
       "      <td>Grand Theft Auto V</td>\n",
       "      <td>PS3</td>\n",
       "      <td>2013</td>\n",
       "      <td>Action</td>\n",
       "      <td>7.02</td>\n",
       "      <td>9.09</td>\n",
       "      <td>0.98</td>\n",
       "      <td>3.96</td>\n",
       "      <td>97.0</td>\n",
       "      <td>8.2</td>\n",
       "      <td>M</td>\n",
       "      <td>17.09</td>\n",
       "    </tr>\n",
       "    <tr>\n",
       "      <td>23</td>\n",
       "      <td>Grand Theft Auto V</td>\n",
       "      <td>X360</td>\n",
       "      <td>2013</td>\n",
       "      <td>Action</td>\n",
       "      <td>9.66</td>\n",
       "      <td>5.14</td>\n",
       "      <td>0.06</td>\n",
       "      <td>1.41</td>\n",
       "      <td>97.0</td>\n",
       "      <td>8.1</td>\n",
       "      <td>M</td>\n",
       "      <td>14.86</td>\n",
       "    </tr>\n",
       "    <tr>\n",
       "      <td>31</td>\n",
       "      <td>Call of Duty: Black Ops 3</td>\n",
       "      <td>PS4</td>\n",
       "      <td>2015</td>\n",
       "      <td>Shooter</td>\n",
       "      <td>6.03</td>\n",
       "      <td>5.86</td>\n",
       "      <td>0.36</td>\n",
       "      <td>2.38</td>\n",
       "      <td>-1.0</td>\n",
       "      <td>-1.0</td>\n",
       "      <td>-1</td>\n",
       "      <td>12.25</td>\n",
       "    </tr>\n",
       "    <tr>\n",
       "      <td>33</td>\n",
       "      <td>Pokemon X/Pokemon Y</td>\n",
       "      <td>3DS</td>\n",
       "      <td>2013</td>\n",
       "      <td>Role-Playing</td>\n",
       "      <td>5.28</td>\n",
       "      <td>4.19</td>\n",
       "      <td>4.35</td>\n",
       "      <td>0.78</td>\n",
       "      <td>-1.0</td>\n",
       "      <td>-1.0</td>\n",
       "      <td>-1</td>\n",
       "      <td>13.82</td>\n",
       "    </tr>\n",
       "    <tr>\n",
       "      <td>42</td>\n",
       "      <td>Grand Theft Auto V</td>\n",
       "      <td>PS4</td>\n",
       "      <td>2014</td>\n",
       "      <td>Action</td>\n",
       "      <td>3.96</td>\n",
       "      <td>6.31</td>\n",
       "      <td>0.38</td>\n",
       "      <td>1.97</td>\n",
       "      <td>97.0</td>\n",
       "      <td>8.3</td>\n",
       "      <td>M</td>\n",
       "      <td>10.65</td>\n",
       "    </tr>\n",
       "  </tbody>\n",
       "</table>\n",
       "</div>"
      ],
      "text/plain": [
       "                         name platform  year_of_release         genre  \\\n",
       "16         Grand Theft Auto V      PS3             2013        Action   \n",
       "23         Grand Theft Auto V     X360             2013        Action   \n",
       "31  Call of Duty: Black Ops 3      PS4             2015       Shooter   \n",
       "33        Pokemon X/Pokemon Y      3DS             2013  Role-Playing   \n",
       "42         Grand Theft Auto V      PS4             2014        Action   \n",
       "\n",
       "    na_sales  eu_sales  jp_sales  other_sales  critic_score  user_score  \\\n",
       "16      7.02      9.09      0.98         3.96          97.0         8.2   \n",
       "23      9.66      5.14      0.06         1.41          97.0         8.1   \n",
       "31      6.03      5.86      0.36         2.38          -1.0        -1.0   \n",
       "33      5.28      4.19      4.35         0.78          -1.0        -1.0   \n",
       "42      3.96      6.31      0.38         1.97          97.0         8.3   \n",
       "\n",
       "   rating  total_sales  \n",
       "16      M        17.09  \n",
       "23      M        14.86  \n",
       "31     -1        12.25  \n",
       "33     -1        13.82  \n",
       "42      M        10.65  "
      ]
     },
     "execution_count": 49,
     "metadata": {},
     "output_type": "execute_result"
    }
   ],
   "source": [
    "good_data.head()"
   ]
  },
  {
   "cell_type": "code",
   "execution_count": 50,
   "metadata": {},
   "outputs": [
    {
     "name": "stdout",
     "output_type": "stream",
     "text": [
      "p-значение: 0.19564149183065668\n",
      "Не получилось отвергнуть нулевую гипотезу\n"
     ]
    }
   ],
   "source": [
    "xbox = good_data.query('platform == \"XOne\"')['user_score']\n",
    "pc = good_data.query('platform == \"PC\"')['user_score']\n",
    "\n",
    "alpha = .01\n",
    "\n",
    "results = st.ttest_ind(\n",
    "    xbox, \n",
    "    pc, \n",
    "    equal_var=False)\n",
    "\n",
    "print('p-значение:', results.pvalue)\n",
    "if results.pvalue < alpha:\n",
    "    print('Отвергаем нулевую гипотезу')\n",
    "else:\n",
    "    print('Не получилось отвергнуть нулевую гипотезу')"
   ]
  },
  {
   "cell_type": "code",
   "execution_count": 51,
   "metadata": {
    "scrolled": false
   },
   "outputs": [
    {
     "data": {
      "text/html": [
       "<div>\n",
       "<style scoped>\n",
       "    .dataframe tbody tr th:only-of-type {\n",
       "        vertical-align: middle;\n",
       "    }\n",
       "\n",
       "    .dataframe tbody tr th {\n",
       "        vertical-align: top;\n",
       "    }\n",
       "\n",
       "    .dataframe thead th {\n",
       "        text-align: right;\n",
       "    }\n",
       "</style>\n",
       "<table border=\"1\" class=\"dataframe\">\n",
       "  <thead>\n",
       "    <tr style=\"text-align: right;\">\n",
       "      <th></th>\n",
       "      <th>user_score</th>\n",
       "    </tr>\n",
       "    <tr>\n",
       "      <th>platform</th>\n",
       "      <th></th>\n",
       "    </tr>\n",
       "  </thead>\n",
       "  <tbody>\n",
       "    <tr>\n",
       "      <td>PC</td>\n",
       "      <td>4.961905</td>\n",
       "    </tr>\n",
       "    <tr>\n",
       "      <td>XOne</td>\n",
       "      <td>4.542105</td>\n",
       "    </tr>\n",
       "  </tbody>\n",
       "</table>\n",
       "</div>"
      ],
      "text/plain": [
       "          user_score\n",
       "platform            \n",
       "PC          4.961905\n",
       "XOne        4.542105"
      ]
     },
     "execution_count": 51,
     "metadata": {},
     "output_type": "execute_result"
    }
   ],
   "source": [
    "xbox_vs_pc = good_data.query('platform == \"XOne\" or platform == \"PC\"')\n",
    "xbox_vs_pc = xbox_vs_pc.pivot_table(index='platform', values='user_score')\n",
    "xbox_vs_pc"
   ]
  },
  {
   "cell_type": "markdown",
   "metadata": {},
   "source": [
    "Статистический тест показал, что мы не можем отвергать гипотезу о равенсте пользовательских рейтингов на платформах Xbox One и PC. Если бы мы утверждали, что рейтинг разный, то с вероятность, почти 20% могли допустить ошибку."
   ]
  },
  {
   "cell_type": "markdown",
   "metadata": {},
   "source": [
    "2. \n",
    "\n",
    " - Нулевая гипотеза - Средние пользовательские рейтинги жанров Action и Sports одинаковые.\n",
    " - Альтернативная гипотеза - Средние пользовательские рейтинги жанров Action и Sports разные."
   ]
  },
  {
   "cell_type": "code",
   "execution_count": 52,
   "metadata": {},
   "outputs": [
    {
     "name": "stdout",
     "output_type": "stream",
     "text": [
      "p-значение: 0.008445505365573194\n",
      "Отвергаем нулевую гипотезу\n"
     ]
    }
   ],
   "source": [
    "xbox = good_data.query('genre == \"Action\"')['user_score']\n",
    "pc = good_data.query('genre == \"Sports\"')['user_score']\n",
    "\n",
    "alpha = .01\n",
    "\n",
    "results = st.ttest_ind(\n",
    "    xbox, \n",
    "    pc, \n",
    "    equal_var=False)\n",
    "\n",
    "print('p-значение:', results.pvalue)\n",
    "if results.pvalue < alpha:\n",
    "    print('Отвергаем нулевую гипотезу')\n",
    "else:\n",
    "    print('Не получилось отвергнуть нулевую гипотезу')"
   ]
  },
  {
   "cell_type": "code",
   "execution_count": 53,
   "metadata": {},
   "outputs": [
    {
     "data": {
      "text/html": [
       "<div>\n",
       "<style scoped>\n",
       "    .dataframe tbody tr th:only-of-type {\n",
       "        vertical-align: middle;\n",
       "    }\n",
       "\n",
       "    .dataframe tbody tr th {\n",
       "        vertical-align: top;\n",
       "    }\n",
       "\n",
       "    .dataframe thead th {\n",
       "        text-align: right;\n",
       "    }\n",
       "</style>\n",
       "<table border=\"1\" class=\"dataframe\">\n",
       "  <thead>\n",
       "    <tr style=\"text-align: right;\">\n",
       "      <th></th>\n",
       "      <th>user_score</th>\n",
       "    </tr>\n",
       "    <tr>\n",
       "      <th>genre</th>\n",
       "      <th></th>\n",
       "    </tr>\n",
       "  </thead>\n",
       "  <tbody>\n",
       "    <tr>\n",
       "      <td>Action</td>\n",
       "      <td>2.980157</td>\n",
       "    </tr>\n",
       "    <tr>\n",
       "      <td>Sports</td>\n",
       "      <td>3.664019</td>\n",
       "    </tr>\n",
       "  </tbody>\n",
       "</table>\n",
       "</div>"
      ],
      "text/plain": [
       "        user_score\n",
       "genre             \n",
       "Action    2.980157\n",
       "Sports    3.664019"
      ]
     },
     "execution_count": 53,
     "metadata": {},
     "output_type": "execute_result"
    }
   ],
   "source": [
    "action_vs_sports = good_data.query('genre == \"Action\" or genre == \"Sports\"')\n",
    "action_vs_sports = action_vs_sports.pivot_table(index='genre', values='user_score')\n",
    "action_vs_sports "
   ]
  },
  {
   "cell_type": "markdown",
   "metadata": {},
   "source": [
    "Подтвердить исходную гипотезу не получилось, следовательно можно утверждать в уверенностью на 99,15%, что средние пользовательские рейтинги жанров Action и Sports различаются. При прочих условиях, в процессе продвижения игр лучше уделить больше внимания жанру Sport."
   ]
  },
  {
   "cell_type": "markdown",
   "metadata": {},
   "source": [
    "### Шаг 6. Общий вывод\n",
    "\n",
    "Проделанный нами анализ показал, что потенциально успешный продукт должен обладать рядом характеристик:\n",
    " - Для западного рынка игры должны быть разработаны на платформах PS4 и XOne, а для японского - на платформе 3DS.\n",
    " - Японские геймеры предпочитают игры жанра Role-Playing, в то время как для западных игроков лучше выпускать игры жанров Action и Shooter.\n",
    " - По рейтингу ESRB лучше отдавать предпочтение играм с рейтингом от 17 лет (если речь идет об Америке и Европе), и с рейтингом от 13 лет для Японии. Стоит обратить внимание на продвижении игр с разрешенным возрастом от 6 лет, но в таком случае будет сужен набор жанров.\n",
    " - Не стоит ориентироваться на оценки пользователей, поскольку они не играют значитильной роли, а вот оценкам критиков стоит уделить внимании, их отзывы имеют значение."
   ]
  }
 ],
 "metadata": {
  "kernelspec": {
   "display_name": "Python 3",
   "language": "python",
   "name": "python3"
  },
  "language_info": {
   "codemirror_mode": {
    "name": "ipython",
    "version": 3
   },
   "file_extension": ".py",
   "mimetype": "text/x-python",
   "name": "python",
   "nbconvert_exporter": "python",
   "pygments_lexer": "ipython3",
   "version": "3.8.5"
  },
  "toc": {
   "base_numbering": 1,
   "nav_menu": {},
   "number_sections": true,
   "sideBar": true,
   "skip_h1_title": true,
   "title_cell": "Table of Contents",
   "title_sidebar": "Contents",
   "toc_cell": false,
   "toc_position": {},
   "toc_section_display": true,
   "toc_window_display": false
  }
 },
 "nbformat": 4,
 "nbformat_minor": 2
}
